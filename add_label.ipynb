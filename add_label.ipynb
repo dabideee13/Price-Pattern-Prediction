{
 "cells": [
  {
   "cell_type": "code",
   "execution_count": 1,
   "metadata": {},
   "outputs": [],
   "source": [
    "import pandas as pd\n",
    "from dfply import *\n",
    "\n",
    "from price_detection_tools import screener, add_label"
   ]
  },
  {
   "cell_type": "code",
   "execution_count": 2,
   "metadata": {},
   "outputs": [],
   "source": [
    "df = pd.read_csv(\"/Users/d.e.magno/Datasets/stocks/AAPL.csv\")"
   ]
  },
  {
   "cell_type": "code",
   "execution_count": 3,
   "metadata": {},
   "outputs": [],
   "source": [
    "df2 = df >> screener >> add_label(df)"
   ]
  },
  {
   "cell_type": "code",
   "execution_count": 4,
   "metadata": {},
   "outputs": [
    {
     "data": {
      "text/html": [
       "<div>\n",
       "<style scoped>\n",
       "    .dataframe tbody tr th:only-of-type {\n",
       "        vertical-align: middle;\n",
       "    }\n",
       "\n",
       "    .dataframe tbody tr th {\n",
       "        vertical-align: top;\n",
       "    }\n",
       "\n",
       "    .dataframe thead th {\n",
       "        text-align: right;\n",
       "    }\n",
       "</style>\n",
       "<table border=\"1\" class=\"dataframe\">\n",
       "  <thead>\n",
       "    <tr style=\"text-align: right;\">\n",
       "      <th></th>\n",
       "      <th>increment</th>\n",
       "      <th>ema</th>\n",
       "      <th>window</th>\n",
       "      <th>date</th>\n",
       "      <th>f1</th>\n",
       "      <th>f2</th>\n",
       "      <th>f3</th>\n",
       "      <th>f4</th>\n",
       "      <th>f5</th>\n",
       "      <th>fw_ret_1</th>\n",
       "      <th>fw_ret_2</th>\n",
       "      <th>fw_ret_3</th>\n",
       "      <th>label</th>\n",
       "      <th>idx1</th>\n",
       "      <th>idx2</th>\n",
       "      <th>idx3</th>\n",
       "      <th>idx4</th>\n",
       "      <th>idx5</th>\n",
       "    </tr>\n",
       "  </thead>\n",
       "  <tbody>\n",
       "    <tr>\n",
       "      <th>0</th>\n",
       "      <td>1</td>\n",
       "      <td>3</td>\n",
       "      <td>3</td>\n",
       "      <td>(3457, 3476)</td>\n",
       "      <td>0.265340</td>\n",
       "      <td>0.274816</td>\n",
       "      <td>0.265340</td>\n",
       "      <td>0.273869</td>\n",
       "      <td>0.266287</td>\n",
       "      <td>0.0249126</td>\n",
       "      <td>0.0355879</td>\n",
       "      <td>0.0106753</td>\n",
       "      <td>3</td>\n",
       "      <td>3457.0</td>\n",
       "      <td>3457.0</td>\n",
       "      <td>3466.0</td>\n",
       "      <td>3471.0</td>\n",
       "      <td>3476.0</td>\n",
       "    </tr>\n",
       "    <tr>\n",
       "      <th>1</th>\n",
       "      <td>1</td>\n",
       "      <td>3</td>\n",
       "      <td>3</td>\n",
       "      <td>(8700, 8709)</td>\n",
       "      <td>29.096258</td>\n",
       "      <td>29.316339</td>\n",
       "      <td>29.022902</td>\n",
       "      <td>29.369070</td>\n",
       "      <td>29.057289</td>\n",
       "      <td>-0.0175148</td>\n",
       "      <td>-0.0104141</td>\n",
       "      <td>-0.00118344</td>\n",
       "      <td>1</td>\n",
       "      <td>8700.0</td>\n",
       "      <td>8703.0</td>\n",
       "      <td>8704.0</td>\n",
       "      <td>8707.0</td>\n",
       "      <td>8709.0</td>\n",
       "    </tr>\n",
       "    <tr>\n",
       "      <th>2</th>\n",
       "      <td>1</td>\n",
       "      <td>3</td>\n",
       "      <td>20</td>\n",
       "      <td>(8660, 8710)</td>\n",
       "      <td>28.479830</td>\n",
       "      <td>30.283358</td>\n",
       "      <td>28.539185</td>\n",
       "      <td>30.384638</td>\n",
       "      <td>28.548355</td>\n",
       "      <td>0.00722736</td>\n",
       "      <td>0.0166225</td>\n",
       "      <td>0.0153377</td>\n",
       "      <td>1</td>\n",
       "      <td>8660.0</td>\n",
       "      <td>8666.0</td>\n",
       "      <td>8673.0</td>\n",
       "      <td>8685.0</td>\n",
       "      <td>8710.0</td>\n",
       "    </tr>\n",
       "  </tbody>\n",
       "</table>\n",
       "</div>"
      ],
      "text/plain": [
       "  increment  ema  window          date         f1         f2         f3  \\\n",
       "0         1    3       3  (3457, 3476)   0.265340   0.274816   0.265340   \n",
       "1         1    3       3  (8700, 8709)  29.096258  29.316339  29.022902   \n",
       "2         1    3      20  (8660, 8710)  28.479830  30.283358  28.539185   \n",
       "\n",
       "          f4         f5    fw_ret_1   fw_ret_2    fw_ret_3  label    idx1  \\\n",
       "0   0.273869   0.266287   0.0249126  0.0355879   0.0106753      3  3457.0   \n",
       "1  29.369070  29.057289  -0.0175148 -0.0104141 -0.00118344      1  8700.0   \n",
       "2  30.384638  28.548355  0.00722736  0.0166225   0.0153377      1  8660.0   \n",
       "\n",
       "     idx2    idx3    idx4    idx5  \n",
       "0  3457.0  3466.0  3471.0  3476.0  \n",
       "1  8703.0  8704.0  8707.0  8709.0  \n",
       "2  8666.0  8673.0  8685.0  8710.0  "
      ]
     },
     "execution_count": 4,
     "metadata": {},
     "output_type": "execute_result"
    }
   ],
   "source": [
    "df2"
   ]
  },
  {
   "cell_type": "code",
   "execution_count": null,
   "metadata": {},
   "outputs": [],
   "source": []
  }
 ],
 "metadata": {
  "kernelspec": {
   "display_name": "auto",
   "language": "python",
   "name": "auto"
  },
  "language_info": {
   "codemirror_mode": {
    "name": "ipython",
    "version": 3
   },
   "file_extension": ".py",
   "mimetype": "text/x-python",
   "name": "python",
   "nbconvert_exporter": "python",
   "pygments_lexer": "ipython3",
   "version": "3.6.13"
  }
 },
 "nbformat": 4,
 "nbformat_minor": 4
}
