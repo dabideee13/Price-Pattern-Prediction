{
 "cells": [
  {
   "cell_type": "markdown",
   "metadata": {},
   "source": [
    "\n",
    "#### A multiclass classification problem\n",
    "\n",
    "by Aries P. Valeriano and Dave Emmanuel Q. Magno"
   ]
  },
  {
   "cell_type": "markdown",
   "metadata": {},
   "source": [
    "## Executive Summary\n",
    "\n",
    "The goal of this project is to a build a prediction model that make use of stock chart pattern, in particular double top to predict the next movement of stock price if it will decrease further, increase, or stay still within the next 10 days. If successful, traders can use this prediction model to make a data driven decision on their next trade.\n",
    "\n",
    "To achieve this goal, we will create our own dataset first. This can be done by determining the minima and maxima of the time series dataset for every stock from various industry. Then, we will refer to it to detect the double top stock chart pattern. There are 5 points/prices that consists of maxima and minima that forms the pattern, these will become the descriptive features that we will use to predict the target feature which is the movement of stock price within the next 10 days. We also include the indexes of the start and end of the pattern, as well as the industry of the stocks where the pattern occurs.\n",
    "\n",
    "Now that we have the dataset. We will perform data exploration to visualize the double top pattern and verify the multicollinearity of the descriptive features because obviously they are correlated to each other since each are part of double top pattern. Moreover, we performed also feature engineer to get additional features that could help increase the predictive accuracy of the model.\n",
    "\n",
    "After data exploration, we proceed to predictive modelling. Note that the target feature consists of 3 levels. Thus, we will fit multiclass models to our dataset such as multiclass KNN, multinomial logistic regression, multiclass SVM etc.. Fortunately, this can be done simultaneously by using pycaret machine learning library, moreover it automatically split the dataset which we set to 80/20, and further perform data exploration such as normalization, in which we set it as minmax scaler, one hat encoding for nominal feature (industry). And as a result, the model the produces the highest F1 score is the gradient boosting classifier, a sequential ensemble approach with 0.5217 score. This imply that with 52.17% accuracy, we can predict the movement of stocks prices within 10 days after the double top stock chart pattern happen."
   ]
  },
  {
   "cell_type": "markdown",
   "metadata": {},
   "source": [
    "## Jupyter Display Settings"
   ]
  },
  {
   "cell_type": "code",
   "execution_count": 1,
   "metadata": {
    "ExecuteTime": {
     "end_time": "2021-04-21T11:04:48.010338Z",
     "start_time": "2021-04-21T11:04:48.001551Z"
    }
   },
   "outputs": [
    {
     "data": {
      "application/javascript": [
       "IPython.OutputArea.prototype._should_scroll = function(lines) {\n",
       "    return false;\n",
       "}\n"
      ],
      "text/plain": [
       "<IPython.core.display.Javascript object>"
      ]
     },
     "metadata": {},
     "output_type": "display_data"
    }
   ],
   "source": [
    "%%javascript\n",
    "IPython.OutputArea.prototype._should_scroll = function(lines) {\n",
    "    return false;\n",
    "}"
   ]
  },
  {
   "cell_type": "code",
   "execution_count": 2,
   "metadata": {
    "ExecuteTime": {
     "end_time": "2021-04-21T11:04:59.854891Z",
     "start_time": "2021-04-21T11:04:59.843513Z"
    }
   },
   "outputs": [
    {
     "data": {
      "text/html": [
       "\n",
       "<style>\n",
       ".output_png {\n",
       "    display: table-cell;\n",
       "    text-align: center;\n",
       "    vertical-align: middle;\n",
       "}\n",
       "</style>\n"
      ],
      "text/plain": [
       "<IPython.core.display.HTML object>"
      ]
     },
     "execution_count": 2,
     "metadata": {},
     "output_type": "execute_result"
    }
   ],
   "source": [
    "from IPython.core.display import HTML\n",
    "HTML(\"\"\"\n",
    "<style>\n",
    ".output_png {\n",
    "    display: table-cell;\n",
    "    text-align: center;\n",
    "    vertical-align: middle;\n",
    "}\n",
    "</style>\n",
    "\"\"\")"
   ]
  },
  {
   "cell_type": "markdown",
   "metadata": {},
   "source": [
    "## Prerequisites"
   ]
  },
  {
   "cell_type": "code",
   "execution_count": 3,
   "metadata": {
    "ExecuteTime": {
     "end_time": "2021-04-21T11:06:41.922373Z",
     "start_time": "2021-04-21T11:06:41.909111Z"
    }
   },
   "outputs": [],
   "source": [
    "from collections import Counter\n",
    "from typing import Union\n",
    "from itertools import combinations\n",
    "\n",
    "from pycaret.classification import *\n",
    "from sklearn.datasets import dump_svmlight_file\n",
    "from sklearn.preprocessing import LabelEncoder\n",
    "from sklearn.model_selection import RepeatedKFold, train_test_split\n",
    "from sklearn.metrics import precision_score\n",
    "from imblearn.under_sampling import NearMiss\n",
    "import xgboost as xgb\n",
    "from xgboost import XGBClassifier\n",
    "\n",
    "import pandas as pd\n",
    "from dfply import *\n",
    "\n",
    "import plotly.express as px\n",
    "import matplotlib.pyplot as plt\n",
    "import seaborn as sns\n",
    "\n",
    "sns.set()\n",
    "%matplotlib inline\n",
    "\n",
    "from price_detection_tools import import_"
   ]
  },
  {
   "cell_type": "markdown",
   "metadata": {},
   "source": [
    "## Tools"
   ]
  },
  {
   "cell_type": "code",
   "execution_count": 4,
   "metadata": {
    "ExecuteTime": {
     "end_time": "2021-04-21T11:03:11.604407Z",
     "start_time": "2021-04-21T11:03:11.598624Z"
    }
   },
   "outputs": [],
   "source": [
    "@dfpipe\n",
    "def extract_date(df_: pd.DataFrame) -> pd.DataFrame:\n",
    "    df = df_.copy(deep=True)\n",
    "    for i, col_name in zip(range(2), ['dateF', 'dateE']):\n",
    "        df[col_name] = df.date.apply(lambda x: x[i])\n",
    "    return df\n",
    "\n",
    "@dfpipe\n",
    "def drop_(df_: pd.DataFrame) -> pd.DataFrame:\n",
    "    to_drop = ['fw_ret_1', 'fw_ret_2', 'fw_ret_3']\n",
    "    return df_.drop([to_drop])\n",
    "\n",
    "@dfpipe\n",
    "def get_average(df_: pd.DataFrame) -> pd.DataFrame:\n",
    "    df = df_.copy(deep=True)\n",
    "    f1_idx = df.columns.get_loc('f1')\n",
    "    f5_idx = df.columns.get_loc('f5')\n",
    "    averages = df.iloc[:, f1_idx:f5_idx + 1].mean(axis=1)\n",
    "    averages.rename('averages', inplace=True)\n",
    "    return pd.concat([df_, averages], axis=1)\n",
    "\n",
    "def lump_categories(data: Union[pd.DataFrame,\n",
    "                                pd.Series],\n",
    "                    percentage: float = 0.010):\n",
    "    \n",
    "    def set_threshold(df: pd.DataFrame,\n",
    "                      percentage: float = 0.010) -> float:\n",
    "        \"\"\"Sets threshold to be a percentage of the shape\n",
    "        of dataframe.\"\"\"\n",
    "        return df.shape[0] * percentage\n",
    "\n",
    "    if isinstance(data, pd.DataFrame): pass\n",
    "    if isinstance(data, pd.Series):\n",
    "        data = data.to_frame()\n",
    "    return data.apply(lambda x: x.mask(\n",
    "        x.map(x.value_counts()) < set_threshold(df_copy),\n",
    "        'Others'))\n",
    "\n",
    "def encode_label(series: pd.Series):\n",
    "    label_encoder = LabelEncoder()\n",
    "    label_encoder.fit(series)\n",
    "    return label_encoder.transform(series)\n",
    "\n",
    "def get_height(fA_: pd.Series,\n",
    "               fB_: pd.Series) -> pd.DataFrame:\n",
    "    return np.abs(fA_ - fB_)\n",
    "\n",
    "@dfpipe\n",
    "def add_height_features(df_: pd.DataFrame) -> pd.DataFrame:\n",
    "    df = df_.copy(deep=True)\n",
    "    heights = ['h{}'.format(i + 1) for i in range(10)]\n",
    "    feats = ['f{}'.format(i + 1) for i in range(5)]\n",
    "    \n",
    "    for height, comb in zip(heights,\n",
    "                            combinations(feats, 2)):\n",
    "        df[height] = get_height(df[comb[0]],\n",
    "                                df[comb[1]])\n",
    "    return df"
   ]
  },
  {
   "cell_type": "markdown",
   "metadata": {},
   "source": [
    "## Data Description\n",
    "\n",
    "It contains a target feature (label) that have 3 levels, decrease \"1\", neutral \"2\", increase \"3\" and 8 descriptive features in which 5 of it (f1, f2, f3, f4, f5) consist of minima and maxima that forms a double top stock chart pattern, 2 of it (dateF, dateE) are the indexes of the start and end of the pattern lastly, industry of the stock where the pattern occur.\n",
    "\n",
    "However, before arriving at this dataset, web scraping of stocks historical dataset for various industries at https://finance.yahoo.com/ are performed, see above table, then closing price from it was utilize. Moreover, minima and maxima of time series dataset for every stock were determined. Next, detection of double top stock chart pattern by setting threshold for the minima and maxima that forms the pattern, and lastly, determine its corresponding target feature by comparing the highest maxima or lowest minima within the pattern and the maximum or minimum prices within the next 10 days after the pattern is observed. Target is labeled increase \"2\" if the maximum price within the next 10 days is greater than the highest maxima within the pattern, decrease \"0\" if the minimum price within the next 10 days is lesser than the lowest minima within the pattern, neutral \"0\" if neither or both happens. "
   ]
  },
  {
   "cell_type": "markdown",
   "metadata": {},
   "source": [
    "## Data Exploration and Preprocessing\n",
    "\n",
    "In here, we have done feature engineer. Created 3 additional descriptive features, which are the the absolute difference between f1 and f3 , also between f3 and f5, then we took the sum of the values from f1 to f5. These features were named d1, d2, and sum respectively. These additional features will help increase the predictive accuracy of the model built later on."
   ]
  },
  {
   "cell_type": "code",
   "execution_count": 6,
   "metadata": {
    "ExecuteTime": {
     "end_time": "2021-04-21T10:40:28.609865Z",
     "start_time": "2021-04-21T10:40:28.589481Z"
    }
   },
   "outputs": [],
   "source": [
    "df = import_('trial.csv').drop(['increment', 'ema', 'window'], axis=1)"
   ]
  },
  {
   "cell_type": "code",
   "execution_count": 7,
   "metadata": {
    "ExecuteTime": {
     "end_time": "2021-04-21T10:40:28.755151Z",
     "start_time": "2021-04-21T10:40:28.747781Z"
    }
   },
   "outputs": [],
   "source": [
    "df_copy = df.copy(deep=True)"
   ]
  },
  {
   "cell_type": "markdown",
   "metadata": {},
   "source": [
    "#### Label encoding of 'industry'"
   ]
  },
  {
   "cell_type": "markdown",
   "metadata": {},
   "source": [
    "#### Lump categories"
   ]
  },
  {
   "cell_type": "code",
   "execution_count": 9,
   "metadata": {},
   "outputs": [],
   "source": [
    "df_copy['industry_lumped'] = lump_categories(df_copy['industry'])"
   ]
  },
  {
   "cell_type": "code",
   "execution_count": 10,
   "metadata": {},
   "outputs": [],
   "source": [
    "df_copy = df_copy.drop('industry', axis=1)"
   ]
  },
  {
   "cell_type": "code",
   "execution_count": 11,
   "metadata": {},
   "outputs": [],
   "source": [
    "df_copy['industry_coded'] = encode_label(df_copy['industry_lumped'])"
   ]
  },
  {
   "cell_type": "code",
   "execution_count": 12,
   "metadata": {},
   "outputs": [],
   "source": [
    "df_copy = df_copy.drop('industry_lumped', axis=1)"
   ]
  },
  {
   "cell_type": "code",
   "execution_count": 13,
   "metadata": {},
   "outputs": [],
   "source": [
    "data = (df_copy >>\n",
    "         extract_date >>\n",
    "         drop(['date']) >>\n",
    "         drop(['fw_ret_1', \n",
    "               'fw_ret_2',\n",
    "               'fw_ret_3']) >>\n",
    "         add_height_features)"
   ]
  },
  {
   "cell_type": "markdown",
   "metadata": {},
   "source": [
    "#### Get the size or width of the whole pattern"
   ]
  },
  {
   "cell_type": "code",
   "execution_count": 14,
   "metadata": {},
   "outputs": [],
   "source": [
    "data['pattern_width'] = np.abs(data.dateF - data.dateE)"
   ]
  },
  {
   "cell_type": "code",
   "execution_count": 15,
   "metadata": {},
   "outputs": [],
   "source": [
    "data['w1'] = get_height(data.idx1, data.idx3)\n",
    "data['w2'] = get_height(data.idx3, data.idx5)\n",
    "data['w3'] = get_height(data.idx2, data.idx4)"
   ]
  },
  {
   "cell_type": "code",
   "execution_count": 16,
   "metadata": {},
   "outputs": [],
   "source": [
    "indices = ['idx1', 'idx2', 'idx3', 'idx4', 'idx5']"
   ]
  },
  {
   "cell_type": "code",
   "execution_count": 17,
   "metadata": {},
   "outputs": [],
   "source": [
    "data = data.drop(indices, axis=1)"
   ]
  },
  {
   "cell_type": "markdown",
   "metadata": {},
   "source": [
    "#### Data validation"
   ]
  },
  {
   "cell_type": "markdown",
   "metadata": {},
   "source": [
    "Drop values with 0 widths, invalid pattern."
   ]
  },
  {
   "cell_type": "code",
   "execution_count": 18,
   "metadata": {},
   "outputs": [],
   "source": [
    "data = data[data.w1 != 0]\n",
    "data = data[data.w2 != 0]\n",
    "data = data[data.w3 != 0]"
   ]
  },
  {
   "cell_type": "markdown",
   "metadata": {},
   "source": [
    "#### Drop 'dateF' and 'dateE' after getting pattern width"
   ]
  },
  {
   "cell_type": "code",
   "execution_count": 19,
   "metadata": {},
   "outputs": [],
   "source": [
    "data = data.drop(['dateF', 'dateE'], axis=1)"
   ]
  },
  {
   "cell_type": "code",
   "execution_count": 20,
   "metadata": {},
   "outputs": [
    {
     "data": {
      "text/plain": [
       "Counter({1: 254, 3: 328, 2: 90})"
      ]
     },
     "execution_count": 20,
     "metadata": {},
     "output_type": "execute_result"
    }
   ],
   "source": [
    "Counter(data.label)"
   ]
  },
  {
   "cell_type": "code",
   "execution_count": null,
   "metadata": {},
   "outputs": [],
   "source": [
    "undersample = NearMiss(version=3)"
   ]
  },
  {
   "cell_type": "code",
   "execution_count": null,
   "metadata": {},
   "outputs": [],
   "source": [
    "def undersample_(X: pd.DataFrame, \n",
    "                 y: pd.Series,\n",
    "                 version: int = 1):\n",
    "    \n",
    "    undersample = NearMiss(version=version)\n",
    "    return undersample.fit_resample(X, y)"
   ]
  },
  {
   "cell_type": "code",
   "execution_count": null,
   "metadata": {},
   "outputs": [],
   "source": [
    "X, y = undersample_(data.drop('label', axis=1),\n",
    "                    data['label'])"
   ]
  },
  {
   "cell_type": "code",
   "execution_count": null,
   "metadata": {},
   "outputs": [],
   "source": [
    "Counter(y)"
   ]
  },
  {
   "cell_type": "markdown",
   "metadata": {},
   "source": [
    "#### Change the coding of the label"
   ]
  },
  {
   "cell_type": "code",
   "execution_count": 21,
   "metadata": {},
   "outputs": [],
   "source": [
    "X, y = data.drop('label', axis=1), data['label']"
   ]
  },
  {
   "cell_type": "code",
   "execution_count": 22,
   "metadata": {},
   "outputs": [],
   "source": [
    "mapping = {1: 0, 2: 1, 3: 2}"
   ]
  },
  {
   "cell_type": "code",
   "execution_count": 23,
   "metadata": {},
   "outputs": [],
   "source": [
    "y = y.replace(mapping)"
   ]
  },
  {
   "cell_type": "code",
   "execution_count": 24,
   "metadata": {},
   "outputs": [],
   "source": [
    "to_filter = ['f1', 'f2', 'f3', 'f4', 'f5', \n",
    "             'industry_coded', 'pattern_width',\n",
    "             'h1', 'h2', 'h4', 'h6', 'h9',\n",
    "             'w1', 'w2', 'w3']"
   ]
  },
  {
   "cell_type": "code",
   "execution_count": 25,
   "metadata": {},
   "outputs": [],
   "source": [
    "X = X[to_filter]"
   ]
  },
  {
   "cell_type": "code",
   "execution_count": null,
   "metadata": {},
   "outputs": [],
   "source": [
    "to_corr = ['w1', 'w2', 'w3', 'pattern_width', 'f1',\n",
    "           'h1', 'h2', 'h4', 'h6', 'h9']"
   ]
  },
  {
   "cell_type": "code",
   "execution_count": null,
   "metadata": {
    "scrolled": true
   },
   "outputs": [],
   "source": [
    "fig=plt.figure(figsize=(12,10), dpi= 100)\n",
    "sns.heatmap(X[to_corr].corr(method='spearman'), annot=True)\n",
    "plt.show()"
   ]
  },
  {
   "cell_type": "markdown",
   "metadata": {},
   "source": [
    "## Model selection\n",
    "\n",
    "The dataset we have consists of quantitative features and a single categorical feature which is the target feature. The target feature contains multiple levels. Therefore, we will fit several models that are multiclass to our dataset, in particular multiclass KNN, multinomial logistic regression, multiclass SVM etc. to find the best predictive model of this project. Fortunately, we can fit these models to our dataset simultaneously using pycaret machine learning library. \n",
    "Moreover, pycaret also automatically normalized then splits dataset if specified, do one hat encoding for nominal features, perform cross validation, tuned hyperparameter for every model etc.. In our case, we specify the normalization method as minmax scaler then split it to 80% training set and 20% testing set, then let it perform 5 fold cross validation with 10 repetition."
   ]
  },
  {
   "cell_type": "code",
   "execution_count": 26,
   "metadata": {},
   "outputs": [],
   "source": [
    "data = pd.concat([X, y], axis=1)"
   ]
  },
  {
   "cell_type": "code",
   "execution_count": 27,
   "metadata": {
    "ExecuteTime": {
     "end_time": "2021-04-21T10:40:30.990817Z",
     "start_time": "2021-04-21T10:40:30.984315Z"
    }
   },
   "outputs": [],
   "source": [
    "cv = RepeatedKFold(n_splits=5, n_repeats=10, random_state=13)"
   ]
  },
  {
   "cell_type": "code",
   "execution_count": 28,
   "metadata": {
    "ExecuteTime": {
     "end_time": "2021-04-21T10:40:34.442791Z",
     "start_time": "2021-04-21T10:40:32.350703Z"
    }
   },
   "outputs": [
    {
     "data": {
      "text/html": [
       "<style  type=\"text/css\" >\n",
       "#T_55c7616e_a3eb_11eb_81ca_38f9d3416b75row18_col1,#T_55c7616e_a3eb_11eb_81ca_38f9d3416b75row29_col1,#T_55c7616e_a3eb_11eb_81ca_38f9d3416b75row33_col1,#T_55c7616e_a3eb_11eb_81ca_38f9d3416b75row40_col1{\n",
       "            background-color:  lightgreen;\n",
       "        }</style><table id=\"T_55c7616e_a3eb_11eb_81ca_38f9d3416b75\" ><thead>    <tr>        <th class=\"blank level0\" ></th>        <th class=\"col_heading level0 col0\" >Description</th>        <th class=\"col_heading level0 col1\" >Value</th>    </tr></thead><tbody>\n",
       "                <tr>\n",
       "                        <th id=\"T_55c7616e_a3eb_11eb_81ca_38f9d3416b75level0_row0\" class=\"row_heading level0 row0\" >0</th>\n",
       "                        <td id=\"T_55c7616e_a3eb_11eb_81ca_38f9d3416b75row0_col0\" class=\"data row0 col0\" >session_id</td>\n",
       "                        <td id=\"T_55c7616e_a3eb_11eb_81ca_38f9d3416b75row0_col1\" class=\"data row0 col1\" >13</td>\n",
       "            </tr>\n",
       "            <tr>\n",
       "                        <th id=\"T_55c7616e_a3eb_11eb_81ca_38f9d3416b75level0_row1\" class=\"row_heading level0 row1\" >1</th>\n",
       "                        <td id=\"T_55c7616e_a3eb_11eb_81ca_38f9d3416b75row1_col0\" class=\"data row1 col0\" >Target</td>\n",
       "                        <td id=\"T_55c7616e_a3eb_11eb_81ca_38f9d3416b75row1_col1\" class=\"data row1 col1\" >label</td>\n",
       "            </tr>\n",
       "            <tr>\n",
       "                        <th id=\"T_55c7616e_a3eb_11eb_81ca_38f9d3416b75level0_row2\" class=\"row_heading level0 row2\" >2</th>\n",
       "                        <td id=\"T_55c7616e_a3eb_11eb_81ca_38f9d3416b75row2_col0\" class=\"data row2 col0\" >Target Type</td>\n",
       "                        <td id=\"T_55c7616e_a3eb_11eb_81ca_38f9d3416b75row2_col1\" class=\"data row2 col1\" >Multiclass</td>\n",
       "            </tr>\n",
       "            <tr>\n",
       "                        <th id=\"T_55c7616e_a3eb_11eb_81ca_38f9d3416b75level0_row3\" class=\"row_heading level0 row3\" >3</th>\n",
       "                        <td id=\"T_55c7616e_a3eb_11eb_81ca_38f9d3416b75row3_col0\" class=\"data row3 col0\" >Label Encoded</td>\n",
       "                        <td id=\"T_55c7616e_a3eb_11eb_81ca_38f9d3416b75row3_col1\" class=\"data row3 col1\" >0: 0, 1: 1, 2: 2</td>\n",
       "            </tr>\n",
       "            <tr>\n",
       "                        <th id=\"T_55c7616e_a3eb_11eb_81ca_38f9d3416b75level0_row4\" class=\"row_heading level0 row4\" >4</th>\n",
       "                        <td id=\"T_55c7616e_a3eb_11eb_81ca_38f9d3416b75row4_col0\" class=\"data row4 col0\" >Original Data</td>\n",
       "                        <td id=\"T_55c7616e_a3eb_11eb_81ca_38f9d3416b75row4_col1\" class=\"data row4 col1\" >(672, 16)</td>\n",
       "            </tr>\n",
       "            <tr>\n",
       "                        <th id=\"T_55c7616e_a3eb_11eb_81ca_38f9d3416b75level0_row5\" class=\"row_heading level0 row5\" >5</th>\n",
       "                        <td id=\"T_55c7616e_a3eb_11eb_81ca_38f9d3416b75row5_col0\" class=\"data row5 col0\" >Missing Values</td>\n",
       "                        <td id=\"T_55c7616e_a3eb_11eb_81ca_38f9d3416b75row5_col1\" class=\"data row5 col1\" >False</td>\n",
       "            </tr>\n",
       "            <tr>\n",
       "                        <th id=\"T_55c7616e_a3eb_11eb_81ca_38f9d3416b75level0_row6\" class=\"row_heading level0 row6\" >6</th>\n",
       "                        <td id=\"T_55c7616e_a3eb_11eb_81ca_38f9d3416b75row6_col0\" class=\"data row6 col0\" >Numeric Features</td>\n",
       "                        <td id=\"T_55c7616e_a3eb_11eb_81ca_38f9d3416b75row6_col1\" class=\"data row6 col1\" >15</td>\n",
       "            </tr>\n",
       "            <tr>\n",
       "                        <th id=\"T_55c7616e_a3eb_11eb_81ca_38f9d3416b75level0_row7\" class=\"row_heading level0 row7\" >7</th>\n",
       "                        <td id=\"T_55c7616e_a3eb_11eb_81ca_38f9d3416b75row7_col0\" class=\"data row7 col0\" >Categorical Features</td>\n",
       "                        <td id=\"T_55c7616e_a3eb_11eb_81ca_38f9d3416b75row7_col1\" class=\"data row7 col1\" >0</td>\n",
       "            </tr>\n",
       "            <tr>\n",
       "                        <th id=\"T_55c7616e_a3eb_11eb_81ca_38f9d3416b75level0_row8\" class=\"row_heading level0 row8\" >8</th>\n",
       "                        <td id=\"T_55c7616e_a3eb_11eb_81ca_38f9d3416b75row8_col0\" class=\"data row8 col0\" >Ordinal Features</td>\n",
       "                        <td id=\"T_55c7616e_a3eb_11eb_81ca_38f9d3416b75row8_col1\" class=\"data row8 col1\" >False</td>\n",
       "            </tr>\n",
       "            <tr>\n",
       "                        <th id=\"T_55c7616e_a3eb_11eb_81ca_38f9d3416b75level0_row9\" class=\"row_heading level0 row9\" >9</th>\n",
       "                        <td id=\"T_55c7616e_a3eb_11eb_81ca_38f9d3416b75row9_col0\" class=\"data row9 col0\" >High Cardinality Features</td>\n",
       "                        <td id=\"T_55c7616e_a3eb_11eb_81ca_38f9d3416b75row9_col1\" class=\"data row9 col1\" >False</td>\n",
       "            </tr>\n",
       "            <tr>\n",
       "                        <th id=\"T_55c7616e_a3eb_11eb_81ca_38f9d3416b75level0_row10\" class=\"row_heading level0 row10\" >10</th>\n",
       "                        <td id=\"T_55c7616e_a3eb_11eb_81ca_38f9d3416b75row10_col0\" class=\"data row10 col0\" >High Cardinality Method</td>\n",
       "                        <td id=\"T_55c7616e_a3eb_11eb_81ca_38f9d3416b75row10_col1\" class=\"data row10 col1\" >None</td>\n",
       "            </tr>\n",
       "            <tr>\n",
       "                        <th id=\"T_55c7616e_a3eb_11eb_81ca_38f9d3416b75level0_row11\" class=\"row_heading level0 row11\" >11</th>\n",
       "                        <td id=\"T_55c7616e_a3eb_11eb_81ca_38f9d3416b75row11_col0\" class=\"data row11 col0\" >Transformed Train Set</td>\n",
       "                        <td id=\"T_55c7616e_a3eb_11eb_81ca_38f9d3416b75row11_col1\" class=\"data row11 col1\" >(510, 4)</td>\n",
       "            </tr>\n",
       "            <tr>\n",
       "                        <th id=\"T_55c7616e_a3eb_11eb_81ca_38f9d3416b75level0_row12\" class=\"row_heading level0 row12\" >12</th>\n",
       "                        <td id=\"T_55c7616e_a3eb_11eb_81ca_38f9d3416b75row12_col0\" class=\"data row12 col0\" >Transformed Test Set</td>\n",
       "                        <td id=\"T_55c7616e_a3eb_11eb_81ca_38f9d3416b75row12_col1\" class=\"data row12 col1\" >(135, 4)</td>\n",
       "            </tr>\n",
       "            <tr>\n",
       "                        <th id=\"T_55c7616e_a3eb_11eb_81ca_38f9d3416b75level0_row13\" class=\"row_heading level0 row13\" >13</th>\n",
       "                        <td id=\"T_55c7616e_a3eb_11eb_81ca_38f9d3416b75row13_col0\" class=\"data row13 col0\" >Shuffle Train-Test</td>\n",
       "                        <td id=\"T_55c7616e_a3eb_11eb_81ca_38f9d3416b75row13_col1\" class=\"data row13 col1\" >True</td>\n",
       "            </tr>\n",
       "            <tr>\n",
       "                        <th id=\"T_55c7616e_a3eb_11eb_81ca_38f9d3416b75level0_row14\" class=\"row_heading level0 row14\" >14</th>\n",
       "                        <td id=\"T_55c7616e_a3eb_11eb_81ca_38f9d3416b75row14_col0\" class=\"data row14 col0\" >Stratify Train-Test</td>\n",
       "                        <td id=\"T_55c7616e_a3eb_11eb_81ca_38f9d3416b75row14_col1\" class=\"data row14 col1\" >True</td>\n",
       "            </tr>\n",
       "            <tr>\n",
       "                        <th id=\"T_55c7616e_a3eb_11eb_81ca_38f9d3416b75level0_row15\" class=\"row_heading level0 row15\" >15</th>\n",
       "                        <td id=\"T_55c7616e_a3eb_11eb_81ca_38f9d3416b75row15_col0\" class=\"data row15 col0\" >Fold Generator</td>\n",
       "                        <td id=\"T_55c7616e_a3eb_11eb_81ca_38f9d3416b75row15_col1\" class=\"data row15 col1\" >RepeatedKFold</td>\n",
       "            </tr>\n",
       "            <tr>\n",
       "                        <th id=\"T_55c7616e_a3eb_11eb_81ca_38f9d3416b75level0_row16\" class=\"row_heading level0 row16\" >16</th>\n",
       "                        <td id=\"T_55c7616e_a3eb_11eb_81ca_38f9d3416b75row16_col0\" class=\"data row16 col0\" >Fold Number</td>\n",
       "                        <td id=\"T_55c7616e_a3eb_11eb_81ca_38f9d3416b75row16_col1\" class=\"data row16 col1\" >10</td>\n",
       "            </tr>\n",
       "            <tr>\n",
       "                        <th id=\"T_55c7616e_a3eb_11eb_81ca_38f9d3416b75level0_row17\" class=\"row_heading level0 row17\" >17</th>\n",
       "                        <td id=\"T_55c7616e_a3eb_11eb_81ca_38f9d3416b75row17_col0\" class=\"data row17 col0\" >CPU Jobs</td>\n",
       "                        <td id=\"T_55c7616e_a3eb_11eb_81ca_38f9d3416b75row17_col1\" class=\"data row17 col1\" >-1</td>\n",
       "            </tr>\n",
       "            <tr>\n",
       "                        <th id=\"T_55c7616e_a3eb_11eb_81ca_38f9d3416b75level0_row18\" class=\"row_heading level0 row18\" >18</th>\n",
       "                        <td id=\"T_55c7616e_a3eb_11eb_81ca_38f9d3416b75row18_col0\" class=\"data row18 col0\" >Use GPU</td>\n",
       "                        <td id=\"T_55c7616e_a3eb_11eb_81ca_38f9d3416b75row18_col1\" class=\"data row18 col1\" >True</td>\n",
       "            </tr>\n",
       "            <tr>\n",
       "                        <th id=\"T_55c7616e_a3eb_11eb_81ca_38f9d3416b75level0_row19\" class=\"row_heading level0 row19\" >19</th>\n",
       "                        <td id=\"T_55c7616e_a3eb_11eb_81ca_38f9d3416b75row19_col0\" class=\"data row19 col0\" >Log Experiment</td>\n",
       "                        <td id=\"T_55c7616e_a3eb_11eb_81ca_38f9d3416b75row19_col1\" class=\"data row19 col1\" >False</td>\n",
       "            </tr>\n",
       "            <tr>\n",
       "                        <th id=\"T_55c7616e_a3eb_11eb_81ca_38f9d3416b75level0_row20\" class=\"row_heading level0 row20\" >20</th>\n",
       "                        <td id=\"T_55c7616e_a3eb_11eb_81ca_38f9d3416b75row20_col0\" class=\"data row20 col0\" >Experiment Name</td>\n",
       "                        <td id=\"T_55c7616e_a3eb_11eb_81ca_38f9d3416b75row20_col1\" class=\"data row20 col1\" >clf-default-name</td>\n",
       "            </tr>\n",
       "            <tr>\n",
       "                        <th id=\"T_55c7616e_a3eb_11eb_81ca_38f9d3416b75level0_row21\" class=\"row_heading level0 row21\" >21</th>\n",
       "                        <td id=\"T_55c7616e_a3eb_11eb_81ca_38f9d3416b75row21_col0\" class=\"data row21 col0\" >USI</td>\n",
       "                        <td id=\"T_55c7616e_a3eb_11eb_81ca_38f9d3416b75row21_col1\" class=\"data row21 col1\" >c4a1</td>\n",
       "            </tr>\n",
       "            <tr>\n",
       "                        <th id=\"T_55c7616e_a3eb_11eb_81ca_38f9d3416b75level0_row22\" class=\"row_heading level0 row22\" >22</th>\n",
       "                        <td id=\"T_55c7616e_a3eb_11eb_81ca_38f9d3416b75row22_col0\" class=\"data row22 col0\" >Imputation Type</td>\n",
       "                        <td id=\"T_55c7616e_a3eb_11eb_81ca_38f9d3416b75row22_col1\" class=\"data row22 col1\" >simple</td>\n",
       "            </tr>\n",
       "            <tr>\n",
       "                        <th id=\"T_55c7616e_a3eb_11eb_81ca_38f9d3416b75level0_row23\" class=\"row_heading level0 row23\" >23</th>\n",
       "                        <td id=\"T_55c7616e_a3eb_11eb_81ca_38f9d3416b75row23_col0\" class=\"data row23 col0\" >Iterative Imputation Iteration</td>\n",
       "                        <td id=\"T_55c7616e_a3eb_11eb_81ca_38f9d3416b75row23_col1\" class=\"data row23 col1\" >None</td>\n",
       "            </tr>\n",
       "            <tr>\n",
       "                        <th id=\"T_55c7616e_a3eb_11eb_81ca_38f9d3416b75level0_row24\" class=\"row_heading level0 row24\" >24</th>\n",
       "                        <td id=\"T_55c7616e_a3eb_11eb_81ca_38f9d3416b75row24_col0\" class=\"data row24 col0\" >Numeric Imputer</td>\n",
       "                        <td id=\"T_55c7616e_a3eb_11eb_81ca_38f9d3416b75row24_col1\" class=\"data row24 col1\" >mean</td>\n",
       "            </tr>\n",
       "            <tr>\n",
       "                        <th id=\"T_55c7616e_a3eb_11eb_81ca_38f9d3416b75level0_row25\" class=\"row_heading level0 row25\" >25</th>\n",
       "                        <td id=\"T_55c7616e_a3eb_11eb_81ca_38f9d3416b75row25_col0\" class=\"data row25 col0\" >Iterative Imputation Numeric Model</td>\n",
       "                        <td id=\"T_55c7616e_a3eb_11eb_81ca_38f9d3416b75row25_col1\" class=\"data row25 col1\" >None</td>\n",
       "            </tr>\n",
       "            <tr>\n",
       "                        <th id=\"T_55c7616e_a3eb_11eb_81ca_38f9d3416b75level0_row26\" class=\"row_heading level0 row26\" >26</th>\n",
       "                        <td id=\"T_55c7616e_a3eb_11eb_81ca_38f9d3416b75row26_col0\" class=\"data row26 col0\" >Categorical Imputer</td>\n",
       "                        <td id=\"T_55c7616e_a3eb_11eb_81ca_38f9d3416b75row26_col1\" class=\"data row26 col1\" >constant</td>\n",
       "            </tr>\n",
       "            <tr>\n",
       "                        <th id=\"T_55c7616e_a3eb_11eb_81ca_38f9d3416b75level0_row27\" class=\"row_heading level0 row27\" >27</th>\n",
       "                        <td id=\"T_55c7616e_a3eb_11eb_81ca_38f9d3416b75row27_col0\" class=\"data row27 col0\" >Iterative Imputation Categorical Model</td>\n",
       "                        <td id=\"T_55c7616e_a3eb_11eb_81ca_38f9d3416b75row27_col1\" class=\"data row27 col1\" >None</td>\n",
       "            </tr>\n",
       "            <tr>\n",
       "                        <th id=\"T_55c7616e_a3eb_11eb_81ca_38f9d3416b75level0_row28\" class=\"row_heading level0 row28\" >28</th>\n",
       "                        <td id=\"T_55c7616e_a3eb_11eb_81ca_38f9d3416b75row28_col0\" class=\"data row28 col0\" >Unknown Categoricals Handling</td>\n",
       "                        <td id=\"T_55c7616e_a3eb_11eb_81ca_38f9d3416b75row28_col1\" class=\"data row28 col1\" >least_frequent</td>\n",
       "            </tr>\n",
       "            <tr>\n",
       "                        <th id=\"T_55c7616e_a3eb_11eb_81ca_38f9d3416b75level0_row29\" class=\"row_heading level0 row29\" >29</th>\n",
       "                        <td id=\"T_55c7616e_a3eb_11eb_81ca_38f9d3416b75row29_col0\" class=\"data row29 col0\" >Normalize</td>\n",
       "                        <td id=\"T_55c7616e_a3eb_11eb_81ca_38f9d3416b75row29_col1\" class=\"data row29 col1\" >True</td>\n",
       "            </tr>\n",
       "            <tr>\n",
       "                        <th id=\"T_55c7616e_a3eb_11eb_81ca_38f9d3416b75level0_row30\" class=\"row_heading level0 row30\" >30</th>\n",
       "                        <td id=\"T_55c7616e_a3eb_11eb_81ca_38f9d3416b75row30_col0\" class=\"data row30 col0\" >Normalize Method</td>\n",
       "                        <td id=\"T_55c7616e_a3eb_11eb_81ca_38f9d3416b75row30_col1\" class=\"data row30 col1\" >minmax</td>\n",
       "            </tr>\n",
       "            <tr>\n",
       "                        <th id=\"T_55c7616e_a3eb_11eb_81ca_38f9d3416b75level0_row31\" class=\"row_heading level0 row31\" >31</th>\n",
       "                        <td id=\"T_55c7616e_a3eb_11eb_81ca_38f9d3416b75row31_col0\" class=\"data row31 col0\" >Transformation</td>\n",
       "                        <td id=\"T_55c7616e_a3eb_11eb_81ca_38f9d3416b75row31_col1\" class=\"data row31 col1\" >False</td>\n",
       "            </tr>\n",
       "            <tr>\n",
       "                        <th id=\"T_55c7616e_a3eb_11eb_81ca_38f9d3416b75level0_row32\" class=\"row_heading level0 row32\" >32</th>\n",
       "                        <td id=\"T_55c7616e_a3eb_11eb_81ca_38f9d3416b75row32_col0\" class=\"data row32 col0\" >Transformation Method</td>\n",
       "                        <td id=\"T_55c7616e_a3eb_11eb_81ca_38f9d3416b75row32_col1\" class=\"data row32 col1\" >None</td>\n",
       "            </tr>\n",
       "            <tr>\n",
       "                        <th id=\"T_55c7616e_a3eb_11eb_81ca_38f9d3416b75level0_row33\" class=\"row_heading level0 row33\" >33</th>\n",
       "                        <td id=\"T_55c7616e_a3eb_11eb_81ca_38f9d3416b75row33_col0\" class=\"data row33 col0\" >PCA</td>\n",
       "                        <td id=\"T_55c7616e_a3eb_11eb_81ca_38f9d3416b75row33_col1\" class=\"data row33 col1\" >True</td>\n",
       "            </tr>\n",
       "            <tr>\n",
       "                        <th id=\"T_55c7616e_a3eb_11eb_81ca_38f9d3416b75level0_row34\" class=\"row_heading level0 row34\" >34</th>\n",
       "                        <td id=\"T_55c7616e_a3eb_11eb_81ca_38f9d3416b75row34_col0\" class=\"data row34 col0\" >PCA Method</td>\n",
       "                        <td id=\"T_55c7616e_a3eb_11eb_81ca_38f9d3416b75row34_col1\" class=\"data row34 col1\" >linear</td>\n",
       "            </tr>\n",
       "            <tr>\n",
       "                        <th id=\"T_55c7616e_a3eb_11eb_81ca_38f9d3416b75level0_row35\" class=\"row_heading level0 row35\" >35</th>\n",
       "                        <td id=\"T_55c7616e_a3eb_11eb_81ca_38f9d3416b75row35_col0\" class=\"data row35 col0\" >PCA Components</td>\n",
       "                        <td id=\"T_55c7616e_a3eb_11eb_81ca_38f9d3416b75row35_col1\" class=\"data row35 col1\" >0.990000</td>\n",
       "            </tr>\n",
       "            <tr>\n",
       "                        <th id=\"T_55c7616e_a3eb_11eb_81ca_38f9d3416b75level0_row36\" class=\"row_heading level0 row36\" >36</th>\n",
       "                        <td id=\"T_55c7616e_a3eb_11eb_81ca_38f9d3416b75row36_col0\" class=\"data row36 col0\" >Ignore Low Variance</td>\n",
       "                        <td id=\"T_55c7616e_a3eb_11eb_81ca_38f9d3416b75row36_col1\" class=\"data row36 col1\" >False</td>\n",
       "            </tr>\n",
       "            <tr>\n",
       "                        <th id=\"T_55c7616e_a3eb_11eb_81ca_38f9d3416b75level0_row37\" class=\"row_heading level0 row37\" >37</th>\n",
       "                        <td id=\"T_55c7616e_a3eb_11eb_81ca_38f9d3416b75row37_col0\" class=\"data row37 col0\" >Combine Rare Levels</td>\n",
       "                        <td id=\"T_55c7616e_a3eb_11eb_81ca_38f9d3416b75row37_col1\" class=\"data row37 col1\" >False</td>\n",
       "            </tr>\n",
       "            <tr>\n",
       "                        <th id=\"T_55c7616e_a3eb_11eb_81ca_38f9d3416b75level0_row38\" class=\"row_heading level0 row38\" >38</th>\n",
       "                        <td id=\"T_55c7616e_a3eb_11eb_81ca_38f9d3416b75row38_col0\" class=\"data row38 col0\" >Rare Level Threshold</td>\n",
       "                        <td id=\"T_55c7616e_a3eb_11eb_81ca_38f9d3416b75row38_col1\" class=\"data row38 col1\" >None</td>\n",
       "            </tr>\n",
       "            <tr>\n",
       "                        <th id=\"T_55c7616e_a3eb_11eb_81ca_38f9d3416b75level0_row39\" class=\"row_heading level0 row39\" >39</th>\n",
       "                        <td id=\"T_55c7616e_a3eb_11eb_81ca_38f9d3416b75row39_col0\" class=\"data row39 col0\" >Numeric Binning</td>\n",
       "                        <td id=\"T_55c7616e_a3eb_11eb_81ca_38f9d3416b75row39_col1\" class=\"data row39 col1\" >False</td>\n",
       "            </tr>\n",
       "            <tr>\n",
       "                        <th id=\"T_55c7616e_a3eb_11eb_81ca_38f9d3416b75level0_row40\" class=\"row_heading level0 row40\" >40</th>\n",
       "                        <td id=\"T_55c7616e_a3eb_11eb_81ca_38f9d3416b75row40_col0\" class=\"data row40 col0\" >Remove Outliers</td>\n",
       "                        <td id=\"T_55c7616e_a3eb_11eb_81ca_38f9d3416b75row40_col1\" class=\"data row40 col1\" >True</td>\n",
       "            </tr>\n",
       "            <tr>\n",
       "                        <th id=\"T_55c7616e_a3eb_11eb_81ca_38f9d3416b75level0_row41\" class=\"row_heading level0 row41\" >41</th>\n",
       "                        <td id=\"T_55c7616e_a3eb_11eb_81ca_38f9d3416b75row41_col0\" class=\"data row41 col0\" >Outliers Threshold</td>\n",
       "                        <td id=\"T_55c7616e_a3eb_11eb_81ca_38f9d3416b75row41_col1\" class=\"data row41 col1\" >0.050000</td>\n",
       "            </tr>\n",
       "            <tr>\n",
       "                        <th id=\"T_55c7616e_a3eb_11eb_81ca_38f9d3416b75level0_row42\" class=\"row_heading level0 row42\" >42</th>\n",
       "                        <td id=\"T_55c7616e_a3eb_11eb_81ca_38f9d3416b75row42_col0\" class=\"data row42 col0\" >Remove Multicollinearity</td>\n",
       "                        <td id=\"T_55c7616e_a3eb_11eb_81ca_38f9d3416b75row42_col1\" class=\"data row42 col1\" >False</td>\n",
       "            </tr>\n",
       "            <tr>\n",
       "                        <th id=\"T_55c7616e_a3eb_11eb_81ca_38f9d3416b75level0_row43\" class=\"row_heading level0 row43\" >43</th>\n",
       "                        <td id=\"T_55c7616e_a3eb_11eb_81ca_38f9d3416b75row43_col0\" class=\"data row43 col0\" >Multicollinearity Threshold</td>\n",
       "                        <td id=\"T_55c7616e_a3eb_11eb_81ca_38f9d3416b75row43_col1\" class=\"data row43 col1\" >None</td>\n",
       "            </tr>\n",
       "            <tr>\n",
       "                        <th id=\"T_55c7616e_a3eb_11eb_81ca_38f9d3416b75level0_row44\" class=\"row_heading level0 row44\" >44</th>\n",
       "                        <td id=\"T_55c7616e_a3eb_11eb_81ca_38f9d3416b75row44_col0\" class=\"data row44 col0\" >Clustering</td>\n",
       "                        <td id=\"T_55c7616e_a3eb_11eb_81ca_38f9d3416b75row44_col1\" class=\"data row44 col1\" >False</td>\n",
       "            </tr>\n",
       "            <tr>\n",
       "                        <th id=\"T_55c7616e_a3eb_11eb_81ca_38f9d3416b75level0_row45\" class=\"row_heading level0 row45\" >45</th>\n",
       "                        <td id=\"T_55c7616e_a3eb_11eb_81ca_38f9d3416b75row45_col0\" class=\"data row45 col0\" >Clustering Iteration</td>\n",
       "                        <td id=\"T_55c7616e_a3eb_11eb_81ca_38f9d3416b75row45_col1\" class=\"data row45 col1\" >None</td>\n",
       "            </tr>\n",
       "            <tr>\n",
       "                        <th id=\"T_55c7616e_a3eb_11eb_81ca_38f9d3416b75level0_row46\" class=\"row_heading level0 row46\" >46</th>\n",
       "                        <td id=\"T_55c7616e_a3eb_11eb_81ca_38f9d3416b75row46_col0\" class=\"data row46 col0\" >Polynomial Features</td>\n",
       "                        <td id=\"T_55c7616e_a3eb_11eb_81ca_38f9d3416b75row46_col1\" class=\"data row46 col1\" >False</td>\n",
       "            </tr>\n",
       "            <tr>\n",
       "                        <th id=\"T_55c7616e_a3eb_11eb_81ca_38f9d3416b75level0_row47\" class=\"row_heading level0 row47\" >47</th>\n",
       "                        <td id=\"T_55c7616e_a3eb_11eb_81ca_38f9d3416b75row47_col0\" class=\"data row47 col0\" >Polynomial Degree</td>\n",
       "                        <td id=\"T_55c7616e_a3eb_11eb_81ca_38f9d3416b75row47_col1\" class=\"data row47 col1\" >None</td>\n",
       "            </tr>\n",
       "            <tr>\n",
       "                        <th id=\"T_55c7616e_a3eb_11eb_81ca_38f9d3416b75level0_row48\" class=\"row_heading level0 row48\" >48</th>\n",
       "                        <td id=\"T_55c7616e_a3eb_11eb_81ca_38f9d3416b75row48_col0\" class=\"data row48 col0\" >Trignometry Features</td>\n",
       "                        <td id=\"T_55c7616e_a3eb_11eb_81ca_38f9d3416b75row48_col1\" class=\"data row48 col1\" >False</td>\n",
       "            </tr>\n",
       "            <tr>\n",
       "                        <th id=\"T_55c7616e_a3eb_11eb_81ca_38f9d3416b75level0_row49\" class=\"row_heading level0 row49\" >49</th>\n",
       "                        <td id=\"T_55c7616e_a3eb_11eb_81ca_38f9d3416b75row49_col0\" class=\"data row49 col0\" >Polynomial Threshold</td>\n",
       "                        <td id=\"T_55c7616e_a3eb_11eb_81ca_38f9d3416b75row49_col1\" class=\"data row49 col1\" >None</td>\n",
       "            </tr>\n",
       "            <tr>\n",
       "                        <th id=\"T_55c7616e_a3eb_11eb_81ca_38f9d3416b75level0_row50\" class=\"row_heading level0 row50\" >50</th>\n",
       "                        <td id=\"T_55c7616e_a3eb_11eb_81ca_38f9d3416b75row50_col0\" class=\"data row50 col0\" >Group Features</td>\n",
       "                        <td id=\"T_55c7616e_a3eb_11eb_81ca_38f9d3416b75row50_col1\" class=\"data row50 col1\" >False</td>\n",
       "            </tr>\n",
       "            <tr>\n",
       "                        <th id=\"T_55c7616e_a3eb_11eb_81ca_38f9d3416b75level0_row51\" class=\"row_heading level0 row51\" >51</th>\n",
       "                        <td id=\"T_55c7616e_a3eb_11eb_81ca_38f9d3416b75row51_col0\" class=\"data row51 col0\" >Feature Selection</td>\n",
       "                        <td id=\"T_55c7616e_a3eb_11eb_81ca_38f9d3416b75row51_col1\" class=\"data row51 col1\" >False</td>\n",
       "            </tr>\n",
       "            <tr>\n",
       "                        <th id=\"T_55c7616e_a3eb_11eb_81ca_38f9d3416b75level0_row52\" class=\"row_heading level0 row52\" >52</th>\n",
       "                        <td id=\"T_55c7616e_a3eb_11eb_81ca_38f9d3416b75row52_col0\" class=\"data row52 col0\" >Feature Selection Method</td>\n",
       "                        <td id=\"T_55c7616e_a3eb_11eb_81ca_38f9d3416b75row52_col1\" class=\"data row52 col1\" >classic</td>\n",
       "            </tr>\n",
       "            <tr>\n",
       "                        <th id=\"T_55c7616e_a3eb_11eb_81ca_38f9d3416b75level0_row53\" class=\"row_heading level0 row53\" >53</th>\n",
       "                        <td id=\"T_55c7616e_a3eb_11eb_81ca_38f9d3416b75row53_col0\" class=\"data row53 col0\" >Features Selection Threshold</td>\n",
       "                        <td id=\"T_55c7616e_a3eb_11eb_81ca_38f9d3416b75row53_col1\" class=\"data row53 col1\" >None</td>\n",
       "            </tr>\n",
       "            <tr>\n",
       "                        <th id=\"T_55c7616e_a3eb_11eb_81ca_38f9d3416b75level0_row54\" class=\"row_heading level0 row54\" >54</th>\n",
       "                        <td id=\"T_55c7616e_a3eb_11eb_81ca_38f9d3416b75row54_col0\" class=\"data row54 col0\" >Feature Interaction</td>\n",
       "                        <td id=\"T_55c7616e_a3eb_11eb_81ca_38f9d3416b75row54_col1\" class=\"data row54 col1\" >False</td>\n",
       "            </tr>\n",
       "            <tr>\n",
       "                        <th id=\"T_55c7616e_a3eb_11eb_81ca_38f9d3416b75level0_row55\" class=\"row_heading level0 row55\" >55</th>\n",
       "                        <td id=\"T_55c7616e_a3eb_11eb_81ca_38f9d3416b75row55_col0\" class=\"data row55 col0\" >Feature Ratio</td>\n",
       "                        <td id=\"T_55c7616e_a3eb_11eb_81ca_38f9d3416b75row55_col1\" class=\"data row55 col1\" >False</td>\n",
       "            </tr>\n",
       "            <tr>\n",
       "                        <th id=\"T_55c7616e_a3eb_11eb_81ca_38f9d3416b75level0_row56\" class=\"row_heading level0 row56\" >56</th>\n",
       "                        <td id=\"T_55c7616e_a3eb_11eb_81ca_38f9d3416b75row56_col0\" class=\"data row56 col0\" >Interaction Threshold</td>\n",
       "                        <td id=\"T_55c7616e_a3eb_11eb_81ca_38f9d3416b75row56_col1\" class=\"data row56 col1\" >None</td>\n",
       "            </tr>\n",
       "            <tr>\n",
       "                        <th id=\"T_55c7616e_a3eb_11eb_81ca_38f9d3416b75level0_row57\" class=\"row_heading level0 row57\" >57</th>\n",
       "                        <td id=\"T_55c7616e_a3eb_11eb_81ca_38f9d3416b75row57_col0\" class=\"data row57 col0\" >Fix Imbalance</td>\n",
       "                        <td id=\"T_55c7616e_a3eb_11eb_81ca_38f9d3416b75row57_col1\" class=\"data row57 col1\" >False</td>\n",
       "            </tr>\n",
       "            <tr>\n",
       "                        <th id=\"T_55c7616e_a3eb_11eb_81ca_38f9d3416b75level0_row58\" class=\"row_heading level0 row58\" >58</th>\n",
       "                        <td id=\"T_55c7616e_a3eb_11eb_81ca_38f9d3416b75row58_col0\" class=\"data row58 col0\" >Fix Imbalance Method</td>\n",
       "                        <td id=\"T_55c7616e_a3eb_11eb_81ca_38f9d3416b75row58_col1\" class=\"data row58 col1\" >SMOTE</td>\n",
       "            </tr>\n",
       "    </tbody></table>"
      ],
      "text/plain": [
       "<pandas.io.formats.style.Styler at 0x7ffc8ff7a860>"
      ]
     },
     "metadata": {},
     "output_type": "display_data"
    }
   ],
   "source": [
    "exp_name = setup(data=data,\n",
    "                 target='label',\n",
    "                 normalize=True,\n",
    "                 normalize_method='minmax',\n",
    "                 train_size=0.8,\n",
    "                 data_split_stratify=True,\n",
    "                 fold_strategy=cv,\n",
    "                 remove_outliers=True,\n",
    "                 use_gpu=True,\n",
    "                 session_id=13,\n",
    "                 pca=True,\n",
    "                 pca_method='linear')"
   ]
  },
  {
   "cell_type": "code",
   "execution_count": 29,
   "metadata": {
    "ExecuteTime": {
     "end_time": "2021-04-21T10:42:57.307725Z",
     "start_time": "2021-04-21T10:40:36.408461Z"
    }
   },
   "outputs": [
    {
     "data": {
      "text/html": [
       "<style  type=\"text/css\" >\n",
       "    #T_a509b69e_a3eb_11eb_ab1a_38f9d3416b75 th {\n",
       "          text-align: left;\n",
       "    }#T_a509b69e_a3eb_11eb_ab1a_38f9d3416b75row0_col0,#T_a509b69e_a3eb_11eb_ab1a_38f9d3416b75row0_col2,#T_a509b69e_a3eb_11eb_ab1a_38f9d3416b75row0_col3,#T_a509b69e_a3eb_11eb_ab1a_38f9d3416b75row0_col5,#T_a509b69e_a3eb_11eb_ab1a_38f9d3416b75row0_col6,#T_a509b69e_a3eb_11eb_ab1a_38f9d3416b75row1_col0,#T_a509b69e_a3eb_11eb_ab1a_38f9d3416b75row1_col1,#T_a509b69e_a3eb_11eb_ab1a_38f9d3416b75row1_col2,#T_a509b69e_a3eb_11eb_ab1a_38f9d3416b75row1_col3,#T_a509b69e_a3eb_11eb_ab1a_38f9d3416b75row1_col4,#T_a509b69e_a3eb_11eb_ab1a_38f9d3416b75row1_col5,#T_a509b69e_a3eb_11eb_ab1a_38f9d3416b75row1_col6,#T_a509b69e_a3eb_11eb_ab1a_38f9d3416b75row1_col7,#T_a509b69e_a3eb_11eb_ab1a_38f9d3416b75row2_col0,#T_a509b69e_a3eb_11eb_ab1a_38f9d3416b75row2_col1,#T_a509b69e_a3eb_11eb_ab1a_38f9d3416b75row2_col2,#T_a509b69e_a3eb_11eb_ab1a_38f9d3416b75row2_col3,#T_a509b69e_a3eb_11eb_ab1a_38f9d3416b75row2_col4,#T_a509b69e_a3eb_11eb_ab1a_38f9d3416b75row2_col5,#T_a509b69e_a3eb_11eb_ab1a_38f9d3416b75row2_col6,#T_a509b69e_a3eb_11eb_ab1a_38f9d3416b75row2_col7,#T_a509b69e_a3eb_11eb_ab1a_38f9d3416b75row3_col0,#T_a509b69e_a3eb_11eb_ab1a_38f9d3416b75row3_col1,#T_a509b69e_a3eb_11eb_ab1a_38f9d3416b75row3_col4,#T_a509b69e_a3eb_11eb_ab1a_38f9d3416b75row3_col5,#T_a509b69e_a3eb_11eb_ab1a_38f9d3416b75row3_col7,#T_a509b69e_a3eb_11eb_ab1a_38f9d3416b75row4_col0,#T_a509b69e_a3eb_11eb_ab1a_38f9d3416b75row4_col1,#T_a509b69e_a3eb_11eb_ab1a_38f9d3416b75row4_col2,#T_a509b69e_a3eb_11eb_ab1a_38f9d3416b75row4_col3,#T_a509b69e_a3eb_11eb_ab1a_38f9d3416b75row4_col4,#T_a509b69e_a3eb_11eb_ab1a_38f9d3416b75row4_col5,#T_a509b69e_a3eb_11eb_ab1a_38f9d3416b75row4_col6,#T_a509b69e_a3eb_11eb_ab1a_38f9d3416b75row4_col7,#T_a509b69e_a3eb_11eb_ab1a_38f9d3416b75row5_col0,#T_a509b69e_a3eb_11eb_ab1a_38f9d3416b75row5_col1,#T_a509b69e_a3eb_11eb_ab1a_38f9d3416b75row5_col2,#T_a509b69e_a3eb_11eb_ab1a_38f9d3416b75row5_col3,#T_a509b69e_a3eb_11eb_ab1a_38f9d3416b75row5_col4,#T_a509b69e_a3eb_11eb_ab1a_38f9d3416b75row5_col6,#T_a509b69e_a3eb_11eb_ab1a_38f9d3416b75row5_col7,#T_a509b69e_a3eb_11eb_ab1a_38f9d3416b75row6_col0,#T_a509b69e_a3eb_11eb_ab1a_38f9d3416b75row6_col1,#T_a509b69e_a3eb_11eb_ab1a_38f9d3416b75row6_col2,#T_a509b69e_a3eb_11eb_ab1a_38f9d3416b75row6_col3,#T_a509b69e_a3eb_11eb_ab1a_38f9d3416b75row6_col4,#T_a509b69e_a3eb_11eb_ab1a_38f9d3416b75row6_col5,#T_a509b69e_a3eb_11eb_ab1a_38f9d3416b75row6_col6,#T_a509b69e_a3eb_11eb_ab1a_38f9d3416b75row6_col7,#T_a509b69e_a3eb_11eb_ab1a_38f9d3416b75row7_col0,#T_a509b69e_a3eb_11eb_ab1a_38f9d3416b75row7_col1,#T_a509b69e_a3eb_11eb_ab1a_38f9d3416b75row7_col2,#T_a509b69e_a3eb_11eb_ab1a_38f9d3416b75row7_col3,#T_a509b69e_a3eb_11eb_ab1a_38f9d3416b75row7_col4,#T_a509b69e_a3eb_11eb_ab1a_38f9d3416b75row7_col5,#T_a509b69e_a3eb_11eb_ab1a_38f9d3416b75row7_col6,#T_a509b69e_a3eb_11eb_ab1a_38f9d3416b75row7_col7,#T_a509b69e_a3eb_11eb_ab1a_38f9d3416b75row8_col0,#T_a509b69e_a3eb_11eb_ab1a_38f9d3416b75row8_col1,#T_a509b69e_a3eb_11eb_ab1a_38f9d3416b75row8_col2,#T_a509b69e_a3eb_11eb_ab1a_38f9d3416b75row8_col3,#T_a509b69e_a3eb_11eb_ab1a_38f9d3416b75row8_col4,#T_a509b69e_a3eb_11eb_ab1a_38f9d3416b75row8_col5,#T_a509b69e_a3eb_11eb_ab1a_38f9d3416b75row8_col6,#T_a509b69e_a3eb_11eb_ab1a_38f9d3416b75row8_col7,#T_a509b69e_a3eb_11eb_ab1a_38f9d3416b75row9_col0,#T_a509b69e_a3eb_11eb_ab1a_38f9d3416b75row9_col1,#T_a509b69e_a3eb_11eb_ab1a_38f9d3416b75row9_col2,#T_a509b69e_a3eb_11eb_ab1a_38f9d3416b75row9_col3,#T_a509b69e_a3eb_11eb_ab1a_38f9d3416b75row9_col4,#T_a509b69e_a3eb_11eb_ab1a_38f9d3416b75row9_col5,#T_a509b69e_a3eb_11eb_ab1a_38f9d3416b75row9_col6,#T_a509b69e_a3eb_11eb_ab1a_38f9d3416b75row9_col7,#T_a509b69e_a3eb_11eb_ab1a_38f9d3416b75row10_col0,#T_a509b69e_a3eb_11eb_ab1a_38f9d3416b75row10_col1,#T_a509b69e_a3eb_11eb_ab1a_38f9d3416b75row10_col2,#T_a509b69e_a3eb_11eb_ab1a_38f9d3416b75row10_col3,#T_a509b69e_a3eb_11eb_ab1a_38f9d3416b75row10_col4,#T_a509b69e_a3eb_11eb_ab1a_38f9d3416b75row10_col5,#T_a509b69e_a3eb_11eb_ab1a_38f9d3416b75row10_col6,#T_a509b69e_a3eb_11eb_ab1a_38f9d3416b75row10_col7,#T_a509b69e_a3eb_11eb_ab1a_38f9d3416b75row11_col0,#T_a509b69e_a3eb_11eb_ab1a_38f9d3416b75row11_col1,#T_a509b69e_a3eb_11eb_ab1a_38f9d3416b75row11_col2,#T_a509b69e_a3eb_11eb_ab1a_38f9d3416b75row11_col3,#T_a509b69e_a3eb_11eb_ab1a_38f9d3416b75row11_col4,#T_a509b69e_a3eb_11eb_ab1a_38f9d3416b75row11_col5,#T_a509b69e_a3eb_11eb_ab1a_38f9d3416b75row11_col6,#T_a509b69e_a3eb_11eb_ab1a_38f9d3416b75row11_col7,#T_a509b69e_a3eb_11eb_ab1a_38f9d3416b75row12_col0,#T_a509b69e_a3eb_11eb_ab1a_38f9d3416b75row12_col1,#T_a509b69e_a3eb_11eb_ab1a_38f9d3416b75row12_col2,#T_a509b69e_a3eb_11eb_ab1a_38f9d3416b75row12_col3,#T_a509b69e_a3eb_11eb_ab1a_38f9d3416b75row12_col4,#T_a509b69e_a3eb_11eb_ab1a_38f9d3416b75row12_col5,#T_a509b69e_a3eb_11eb_ab1a_38f9d3416b75row12_col6,#T_a509b69e_a3eb_11eb_ab1a_38f9d3416b75row12_col7,#T_a509b69e_a3eb_11eb_ab1a_38f9d3416b75row13_col0,#T_a509b69e_a3eb_11eb_ab1a_38f9d3416b75row13_col1,#T_a509b69e_a3eb_11eb_ab1a_38f9d3416b75row13_col2,#T_a509b69e_a3eb_11eb_ab1a_38f9d3416b75row13_col3,#T_a509b69e_a3eb_11eb_ab1a_38f9d3416b75row13_col4,#T_a509b69e_a3eb_11eb_ab1a_38f9d3416b75row13_col5,#T_a509b69e_a3eb_11eb_ab1a_38f9d3416b75row13_col6,#T_a509b69e_a3eb_11eb_ab1a_38f9d3416b75row13_col7{\n",
       "            text-align:  left;\n",
       "            text-align:  left;\n",
       "        }#T_a509b69e_a3eb_11eb_ab1a_38f9d3416b75row0_col1,#T_a509b69e_a3eb_11eb_ab1a_38f9d3416b75row0_col4,#T_a509b69e_a3eb_11eb_ab1a_38f9d3416b75row0_col7,#T_a509b69e_a3eb_11eb_ab1a_38f9d3416b75row3_col2,#T_a509b69e_a3eb_11eb_ab1a_38f9d3416b75row3_col3,#T_a509b69e_a3eb_11eb_ab1a_38f9d3416b75row3_col6,#T_a509b69e_a3eb_11eb_ab1a_38f9d3416b75row5_col5{\n",
       "            text-align:  left;\n",
       "            text-align:  left;\n",
       "            background-color:  yellow;\n",
       "        }#T_a509b69e_a3eb_11eb_ab1a_38f9d3416b75row0_col8,#T_a509b69e_a3eb_11eb_ab1a_38f9d3416b75row1_col8,#T_a509b69e_a3eb_11eb_ab1a_38f9d3416b75row2_col8,#T_a509b69e_a3eb_11eb_ab1a_38f9d3416b75row3_col8,#T_a509b69e_a3eb_11eb_ab1a_38f9d3416b75row4_col8,#T_a509b69e_a3eb_11eb_ab1a_38f9d3416b75row5_col8,#T_a509b69e_a3eb_11eb_ab1a_38f9d3416b75row6_col8,#T_a509b69e_a3eb_11eb_ab1a_38f9d3416b75row7_col8,#T_a509b69e_a3eb_11eb_ab1a_38f9d3416b75row8_col8,#T_a509b69e_a3eb_11eb_ab1a_38f9d3416b75row9_col8,#T_a509b69e_a3eb_11eb_ab1a_38f9d3416b75row10_col8,#T_a509b69e_a3eb_11eb_ab1a_38f9d3416b75row11_col8,#T_a509b69e_a3eb_11eb_ab1a_38f9d3416b75row12_col8{\n",
       "            text-align:  left;\n",
       "            text-align:  left;\n",
       "            background-color:  lightgrey;\n",
       "        }#T_a509b69e_a3eb_11eb_ab1a_38f9d3416b75row13_col8{\n",
       "            text-align:  left;\n",
       "            text-align:  left;\n",
       "            background-color:  yellow;\n",
       "            background-color:  lightgrey;\n",
       "        }</style><table id=\"T_a509b69e_a3eb_11eb_ab1a_38f9d3416b75\" ><thead>    <tr>        <th class=\"blank level0\" ></th>        <th class=\"col_heading level0 col0\" >Model</th>        <th class=\"col_heading level0 col1\" >Accuracy</th>        <th class=\"col_heading level0 col2\" >AUC</th>        <th class=\"col_heading level0 col3\" >Recall</th>        <th class=\"col_heading level0 col4\" >Prec.</th>        <th class=\"col_heading level0 col5\" >F1</th>        <th class=\"col_heading level0 col6\" >Kappa</th>        <th class=\"col_heading level0 col7\" >MCC</th>        <th class=\"col_heading level0 col8\" >TT (Sec)</th>    </tr></thead><tbody>\n",
       "                <tr>\n",
       "                        <th id=\"T_a509b69e_a3eb_11eb_ab1a_38f9d3416b75level0_row0\" class=\"row_heading level0 row0\" >ridge</th>\n",
       "                        <td id=\"T_a509b69e_a3eb_11eb_ab1a_38f9d3416b75row0_col0\" class=\"data row0 col0\" >Ridge Classifier</td>\n",
       "                        <td id=\"T_a509b69e_a3eb_11eb_ab1a_38f9d3416b75row0_col1\" class=\"data row0 col1\" >0.5067</td>\n",
       "                        <td id=\"T_a509b69e_a3eb_11eb_ab1a_38f9d3416b75row0_col2\" class=\"data row0 col2\" >0.0000</td>\n",
       "                        <td id=\"T_a509b69e_a3eb_11eb_ab1a_38f9d3416b75row0_col3\" class=\"data row0 col3\" >0.3595</td>\n",
       "                        <td id=\"T_a509b69e_a3eb_11eb_ab1a_38f9d3416b75row0_col4\" class=\"data row0 col4\" >0.4848</td>\n",
       "                        <td id=\"T_a509b69e_a3eb_11eb_ab1a_38f9d3416b75row0_col5\" class=\"data row0 col5\" >0.3922</td>\n",
       "                        <td id=\"T_a509b69e_a3eb_11eb_ab1a_38f9d3416b75row0_col6\" class=\"data row0 col6\" >0.0452</td>\n",
       "                        <td id=\"T_a509b69e_a3eb_11eb_ab1a_38f9d3416b75row0_col7\" class=\"data row0 col7\" >0.0831</td>\n",
       "                        <td id=\"T_a509b69e_a3eb_11eb_ab1a_38f9d3416b75row0_col8\" class=\"data row0 col8\" >0.0108</td>\n",
       "            </tr>\n",
       "            <tr>\n",
       "                        <th id=\"T_a509b69e_a3eb_11eb_ab1a_38f9d3416b75level0_row1\" class=\"row_heading level0 row1\" >lr</th>\n",
       "                        <td id=\"T_a509b69e_a3eb_11eb_ab1a_38f9d3416b75row1_col0\" class=\"data row1 col0\" >Logistic Regression</td>\n",
       "                        <td id=\"T_a509b69e_a3eb_11eb_ab1a_38f9d3416b75row1_col1\" class=\"data row1 col1\" >0.5049</td>\n",
       "                        <td id=\"T_a509b69e_a3eb_11eb_ab1a_38f9d3416b75row1_col2\" class=\"data row1 col2\" >0.5615</td>\n",
       "                        <td id=\"T_a509b69e_a3eb_11eb_ab1a_38f9d3416b75row1_col3\" class=\"data row1 col3\" >0.3537</td>\n",
       "                        <td id=\"T_a509b69e_a3eb_11eb_ab1a_38f9d3416b75row1_col4\" class=\"data row1 col4\" >0.4804</td>\n",
       "                        <td id=\"T_a509b69e_a3eb_11eb_ab1a_38f9d3416b75row1_col5\" class=\"data row1 col5\" >0.3737</td>\n",
       "                        <td id=\"T_a509b69e_a3eb_11eb_ab1a_38f9d3416b75row1_col6\" class=\"data row1 col6\" >0.0319</td>\n",
       "                        <td id=\"T_a509b69e_a3eb_11eb_ab1a_38f9d3416b75row1_col7\" class=\"data row1 col7\" >0.0743</td>\n",
       "                        <td id=\"T_a509b69e_a3eb_11eb_ab1a_38f9d3416b75row1_col8\" class=\"data row1 col8\" >0.0328</td>\n",
       "            </tr>\n",
       "            <tr>\n",
       "                        <th id=\"T_a509b69e_a3eb_11eb_ab1a_38f9d3416b75level0_row2\" class=\"row_heading level0 row2\" >lda</th>\n",
       "                        <td id=\"T_a509b69e_a3eb_11eb_ab1a_38f9d3416b75row2_col0\" class=\"data row2 col0\" >Linear Discriminant Analysis</td>\n",
       "                        <td id=\"T_a509b69e_a3eb_11eb_ab1a_38f9d3416b75row2_col1\" class=\"data row2 col1\" >0.4890</td>\n",
       "                        <td id=\"T_a509b69e_a3eb_11eb_ab1a_38f9d3416b75row2_col2\" class=\"data row2 col2\" >0.5664</td>\n",
       "                        <td id=\"T_a509b69e_a3eb_11eb_ab1a_38f9d3416b75row2_col3\" class=\"data row2 col3\" >0.3732</td>\n",
       "                        <td id=\"T_a509b69e_a3eb_11eb_ab1a_38f9d3416b75row2_col4\" class=\"data row2 col4\" >0.4512</td>\n",
       "                        <td id=\"T_a509b69e_a3eb_11eb_ab1a_38f9d3416b75row2_col5\" class=\"data row2 col5\" >0.3961</td>\n",
       "                        <td id=\"T_a509b69e_a3eb_11eb_ab1a_38f9d3416b75row2_col6\" class=\"data row2 col6\" >0.0504</td>\n",
       "                        <td id=\"T_a509b69e_a3eb_11eb_ab1a_38f9d3416b75row2_col7\" class=\"data row2 col7\" >0.0734</td>\n",
       "                        <td id=\"T_a509b69e_a3eb_11eb_ab1a_38f9d3416b75row2_col8\" class=\"data row2 col8\" >0.0120</td>\n",
       "            </tr>\n",
       "            <tr>\n",
       "                        <th id=\"T_a509b69e_a3eb_11eb_ab1a_38f9d3416b75level0_row3\" class=\"row_heading level0 row3\" >qda</th>\n",
       "                        <td id=\"T_a509b69e_a3eb_11eb_ab1a_38f9d3416b75row3_col0\" class=\"data row3 col0\" >Quadratic Discriminant Analysis</td>\n",
       "                        <td id=\"T_a509b69e_a3eb_11eb_ab1a_38f9d3416b75row3_col1\" class=\"data row3 col1\" >0.4794</td>\n",
       "                        <td id=\"T_a509b69e_a3eb_11eb_ab1a_38f9d3416b75row3_col2\" class=\"data row3 col2\" >0.5855</td>\n",
       "                        <td id=\"T_a509b69e_a3eb_11eb_ab1a_38f9d3416b75row3_col3\" class=\"data row3 col3\" >0.3850</td>\n",
       "                        <td id=\"T_a509b69e_a3eb_11eb_ab1a_38f9d3416b75row3_col4\" class=\"data row3 col4\" >0.4527</td>\n",
       "                        <td id=\"T_a509b69e_a3eb_11eb_ab1a_38f9d3416b75row3_col5\" class=\"data row3 col5\" >0.4250</td>\n",
       "                        <td id=\"T_a509b69e_a3eb_11eb_ab1a_38f9d3416b75row3_col6\" class=\"data row3 col6\" >0.0623</td>\n",
       "                        <td id=\"T_a509b69e_a3eb_11eb_ab1a_38f9d3416b75row3_col7\" class=\"data row3 col7\" >0.0725</td>\n",
       "                        <td id=\"T_a509b69e_a3eb_11eb_ab1a_38f9d3416b75row3_col8\" class=\"data row3 col8\" >0.0116</td>\n",
       "            </tr>\n",
       "            <tr>\n",
       "                        <th id=\"T_a509b69e_a3eb_11eb_ab1a_38f9d3416b75level0_row4\" class=\"row_heading level0 row4\" >nb</th>\n",
       "                        <td id=\"T_a509b69e_a3eb_11eb_ab1a_38f9d3416b75row4_col0\" class=\"data row4 col0\" >Naive Bayes</td>\n",
       "                        <td id=\"T_a509b69e_a3eb_11eb_ab1a_38f9d3416b75row4_col1\" class=\"data row4 col1\" >0.4727</td>\n",
       "                        <td id=\"T_a509b69e_a3eb_11eb_ab1a_38f9d3416b75row4_col2\" class=\"data row4 col2\" >0.5812</td>\n",
       "                        <td id=\"T_a509b69e_a3eb_11eb_ab1a_38f9d3416b75row4_col3\" class=\"data row4 col3\" >0.3801</td>\n",
       "                        <td id=\"T_a509b69e_a3eb_11eb_ab1a_38f9d3416b75row4_col4\" class=\"data row4 col4\" >0.4421</td>\n",
       "                        <td id=\"T_a509b69e_a3eb_11eb_ab1a_38f9d3416b75row4_col5\" class=\"data row4 col5\" >0.4203</td>\n",
       "                        <td id=\"T_a509b69e_a3eb_11eb_ab1a_38f9d3416b75row4_col6\" class=\"data row4 col6\" >0.0559</td>\n",
       "                        <td id=\"T_a509b69e_a3eb_11eb_ab1a_38f9d3416b75row4_col7\" class=\"data row4 col7\" >0.0639</td>\n",
       "                        <td id=\"T_a509b69e_a3eb_11eb_ab1a_38f9d3416b75row4_col8\" class=\"data row4 col8\" >0.0186</td>\n",
       "            </tr>\n",
       "            <tr>\n",
       "                        <th id=\"T_a509b69e_a3eb_11eb_ab1a_38f9d3416b75level0_row5\" class=\"row_heading level0 row5\" >rf</th>\n",
       "                        <td id=\"T_a509b69e_a3eb_11eb_ab1a_38f9d3416b75row5_col0\" class=\"data row5 col0\" >Random Forest Classifier</td>\n",
       "                        <td id=\"T_a509b69e_a3eb_11eb_ab1a_38f9d3416b75row5_col1\" class=\"data row5 col1\" >0.4669</td>\n",
       "                        <td id=\"T_a509b69e_a3eb_11eb_ab1a_38f9d3416b75row5_col2\" class=\"data row5 col2\" >0.5469</td>\n",
       "                        <td id=\"T_a509b69e_a3eb_11eb_ab1a_38f9d3416b75row5_col3\" class=\"data row5 col3\" >0.3762</td>\n",
       "                        <td id=\"T_a509b69e_a3eb_11eb_ab1a_38f9d3416b75row5_col4\" class=\"data row5 col4\" >0.4625</td>\n",
       "                        <td id=\"T_a509b69e_a3eb_11eb_ab1a_38f9d3416b75row5_col5\" class=\"data row5 col5\" >0.4476</td>\n",
       "                        <td id=\"T_a509b69e_a3eb_11eb_ab1a_38f9d3416b75row5_col6\" class=\"data row5 col6\" >0.0597</td>\n",
       "                        <td id=\"T_a509b69e_a3eb_11eb_ab1a_38f9d3416b75row5_col7\" class=\"data row5 col7\" >0.0618</td>\n",
       "                        <td id=\"T_a509b69e_a3eb_11eb_ab1a_38f9d3416b75row5_col8\" class=\"data row5 col8\" >0.8892</td>\n",
       "            </tr>\n",
       "            <tr>\n",
       "                        <th id=\"T_a509b69e_a3eb_11eb_ab1a_38f9d3416b75level0_row6\" class=\"row_heading level0 row6\" >ada</th>\n",
       "                        <td id=\"T_a509b69e_a3eb_11eb_ab1a_38f9d3416b75row6_col0\" class=\"data row6 col0\" >Ada Boost Classifier</td>\n",
       "                        <td id=\"T_a509b69e_a3eb_11eb_ab1a_38f9d3416b75row6_col1\" class=\"data row6 col1\" >0.4631</td>\n",
       "                        <td id=\"T_a509b69e_a3eb_11eb_ab1a_38f9d3416b75row6_col2\" class=\"data row6 col2\" >0.5368</td>\n",
       "                        <td id=\"T_a509b69e_a3eb_11eb_ab1a_38f9d3416b75row6_col3\" class=\"data row6 col3\" >0.3785</td>\n",
       "                        <td id=\"T_a509b69e_a3eb_11eb_ab1a_38f9d3416b75row6_col4\" class=\"data row6 col4\" >0.4511</td>\n",
       "                        <td id=\"T_a509b69e_a3eb_11eb_ab1a_38f9d3416b75row6_col5\" class=\"data row6 col5\" >0.4436</td>\n",
       "                        <td id=\"T_a509b69e_a3eb_11eb_ab1a_38f9d3416b75row6_col6\" class=\"data row6 col6\" >0.0599</td>\n",
       "                        <td id=\"T_a509b69e_a3eb_11eb_ab1a_38f9d3416b75row6_col7\" class=\"data row6 col7\" >0.0618</td>\n",
       "                        <td id=\"T_a509b69e_a3eb_11eb_ab1a_38f9d3416b75row6_col8\" class=\"data row6 col8\" >0.0984</td>\n",
       "            </tr>\n",
       "            <tr>\n",
       "                        <th id=\"T_a509b69e_a3eb_11eb_ab1a_38f9d3416b75level0_row7\" class=\"row_heading level0 row7\" >et</th>\n",
       "                        <td id=\"T_a509b69e_a3eb_11eb_ab1a_38f9d3416b75row7_col0\" class=\"data row7 col0\" >Extra Trees Classifier</td>\n",
       "                        <td id=\"T_a509b69e_a3eb_11eb_ab1a_38f9d3416b75row7_col1\" class=\"data row7 col1\" >0.4620</td>\n",
       "                        <td id=\"T_a509b69e_a3eb_11eb_ab1a_38f9d3416b75row7_col2\" class=\"data row7 col2\" >0.5434</td>\n",
       "                        <td id=\"T_a509b69e_a3eb_11eb_ab1a_38f9d3416b75row7_col3\" class=\"data row7 col3\" >0.3800</td>\n",
       "                        <td id=\"T_a509b69e_a3eb_11eb_ab1a_38f9d3416b75row7_col4\" class=\"data row7 col4\" >0.4559</td>\n",
       "                        <td id=\"T_a509b69e_a3eb_11eb_ab1a_38f9d3416b75row7_col5\" class=\"data row7 col5\" >0.4465</td>\n",
       "                        <td id=\"T_a509b69e_a3eb_11eb_ab1a_38f9d3416b75row7_col6\" class=\"data row7 col6\" >0.0591</td>\n",
       "                        <td id=\"T_a509b69e_a3eb_11eb_ab1a_38f9d3416b75row7_col7\" class=\"data row7 col7\" >0.0605</td>\n",
       "                        <td id=\"T_a509b69e_a3eb_11eb_ab1a_38f9d3416b75row7_col8\" class=\"data row7 col8\" >0.6998</td>\n",
       "            </tr>\n",
       "            <tr>\n",
       "                        <th id=\"T_a509b69e_a3eb_11eb_ab1a_38f9d3416b75level0_row8\" class=\"row_heading level0 row8\" >svm</th>\n",
       "                        <td id=\"T_a509b69e_a3eb_11eb_ab1a_38f9d3416b75row8_col0\" class=\"data row8 col0\" >SVM - Linear Kernel</td>\n",
       "                        <td id=\"T_a509b69e_a3eb_11eb_ab1a_38f9d3416b75row8_col1\" class=\"data row8 col1\" >0.4582</td>\n",
       "                        <td id=\"T_a509b69e_a3eb_11eb_ab1a_38f9d3416b75row8_col2\" class=\"data row8 col2\" >0.0000</td>\n",
       "                        <td id=\"T_a509b69e_a3eb_11eb_ab1a_38f9d3416b75row8_col3\" class=\"data row8 col3\" >0.3713</td>\n",
       "                        <td id=\"T_a509b69e_a3eb_11eb_ab1a_38f9d3416b75row8_col4\" class=\"data row8 col4\" >0.3863</td>\n",
       "                        <td id=\"T_a509b69e_a3eb_11eb_ab1a_38f9d3416b75row8_col5\" class=\"data row8 col5\" >0.3583</td>\n",
       "                        <td id=\"T_a509b69e_a3eb_11eb_ab1a_38f9d3416b75row8_col6\" class=\"data row8 col6\" >0.0419</td>\n",
       "                        <td id=\"T_a509b69e_a3eb_11eb_ab1a_38f9d3416b75row8_col7\" class=\"data row8 col7\" >0.0571</td>\n",
       "                        <td id=\"T_a509b69e_a3eb_11eb_ab1a_38f9d3416b75row8_col8\" class=\"data row8 col8\" >0.1156</td>\n",
       "            </tr>\n",
       "            <tr>\n",
       "                        <th id=\"T_a509b69e_a3eb_11eb_ab1a_38f9d3416b75level0_row9\" class=\"row_heading level0 row9\" >lightgbm</th>\n",
       "                        <td id=\"T_a509b69e_a3eb_11eb_ab1a_38f9d3416b75row9_col0\" class=\"data row9 col0\" >Light Gradient Boosting Machine</td>\n",
       "                        <td id=\"T_a509b69e_a3eb_11eb_ab1a_38f9d3416b75row9_col1\" class=\"data row9 col1\" >0.4524</td>\n",
       "                        <td id=\"T_a509b69e_a3eb_11eb_ab1a_38f9d3416b75row9_col2\" class=\"data row9 col2\" >0.5417</td>\n",
       "                        <td id=\"T_a509b69e_a3eb_11eb_ab1a_38f9d3416b75row9_col3\" class=\"data row9 col3\" >0.3719</td>\n",
       "                        <td id=\"T_a509b69e_a3eb_11eb_ab1a_38f9d3416b75row9_col4\" class=\"data row9 col4\" >0.4480</td>\n",
       "                        <td id=\"T_a509b69e_a3eb_11eb_ab1a_38f9d3416b75row9_col5\" class=\"data row9 col5\" >0.4420</td>\n",
       "                        <td id=\"T_a509b69e_a3eb_11eb_ab1a_38f9d3416b75row9_col6\" class=\"data row9 col6\" >0.0505</td>\n",
       "                        <td id=\"T_a509b69e_a3eb_11eb_ab1a_38f9d3416b75row9_col7\" class=\"data row9 col7\" >0.0513</td>\n",
       "                        <td id=\"T_a509b69e_a3eb_11eb_ab1a_38f9d3416b75row9_col8\" class=\"data row9 col8\" >0.1344</td>\n",
       "            </tr>\n",
       "            <tr>\n",
       "                        <th id=\"T_a509b69e_a3eb_11eb_ab1a_38f9d3416b75level0_row10\" class=\"row_heading level0 row10\" >gbc</th>\n",
       "                        <td id=\"T_a509b69e_a3eb_11eb_ab1a_38f9d3416b75row10_col0\" class=\"data row10 col0\" >Gradient Boosting Classifier</td>\n",
       "                        <td id=\"T_a509b69e_a3eb_11eb_ab1a_38f9d3416b75row10_col1\" class=\"data row10 col1\" >0.4453</td>\n",
       "                        <td id=\"T_a509b69e_a3eb_11eb_ab1a_38f9d3416b75row10_col2\" class=\"data row10 col2\" >0.5309</td>\n",
       "                        <td id=\"T_a509b69e_a3eb_11eb_ab1a_38f9d3416b75row10_col3\" class=\"data row10 col3\" >0.3582</td>\n",
       "                        <td id=\"T_a509b69e_a3eb_11eb_ab1a_38f9d3416b75row10_col4\" class=\"data row10 col4\" >0.4339</td>\n",
       "                        <td id=\"T_a509b69e_a3eb_11eb_ab1a_38f9d3416b75row10_col5\" class=\"data row10 col5\" >0.4267</td>\n",
       "                        <td id=\"T_a509b69e_a3eb_11eb_ab1a_38f9d3416b75row10_col6\" class=\"data row10 col6\" >0.0241</td>\n",
       "                        <td id=\"T_a509b69e_a3eb_11eb_ab1a_38f9d3416b75row10_col7\" class=\"data row10 col7\" >0.0253</td>\n",
       "                        <td id=\"T_a509b69e_a3eb_11eb_ab1a_38f9d3416b75row10_col8\" class=\"data row10 col8\" >0.2916</td>\n",
       "            </tr>\n",
       "            <tr>\n",
       "                        <th id=\"T_a509b69e_a3eb_11eb_ab1a_38f9d3416b75level0_row11\" class=\"row_heading level0 row11\" >knn</th>\n",
       "                        <td id=\"T_a509b69e_a3eb_11eb_ab1a_38f9d3416b75row11_col0\" class=\"data row11 col0\" >K Neighbors Classifier</td>\n",
       "                        <td id=\"T_a509b69e_a3eb_11eb_ab1a_38f9d3416b75row11_col1\" class=\"data row11 col1\" >0.4337</td>\n",
       "                        <td id=\"T_a509b69e_a3eb_11eb_ab1a_38f9d3416b75row11_col2\" class=\"data row11 col2\" >0.5187</td>\n",
       "                        <td id=\"T_a509b69e_a3eb_11eb_ab1a_38f9d3416b75row11_col3\" class=\"data row11 col3\" >0.3695</td>\n",
       "                        <td id=\"T_a509b69e_a3eb_11eb_ab1a_38f9d3416b75row11_col4\" class=\"data row11 col4\" >0.4428</td>\n",
       "                        <td id=\"T_a509b69e_a3eb_11eb_ab1a_38f9d3416b75row11_col5\" class=\"data row11 col5\" >0.4288</td>\n",
       "                        <td id=\"T_a509b69e_a3eb_11eb_ab1a_38f9d3416b75row11_col6\" class=\"data row11 col6\" >0.0348</td>\n",
       "                        <td id=\"T_a509b69e_a3eb_11eb_ab1a_38f9d3416b75row11_col7\" class=\"data row11 col7\" >0.0358</td>\n",
       "                        <td id=\"T_a509b69e_a3eb_11eb_ab1a_38f9d3416b75row11_col8\" class=\"data row11 col8\" >0.1176</td>\n",
       "            </tr>\n",
       "            <tr>\n",
       "                        <th id=\"T_a509b69e_a3eb_11eb_ab1a_38f9d3416b75level0_row12\" class=\"row_heading level0 row12\" >dt</th>\n",
       "                        <td id=\"T_a509b69e_a3eb_11eb_ab1a_38f9d3416b75row12_col0\" class=\"data row12 col0\" >Decision Tree Classifier</td>\n",
       "                        <td id=\"T_a509b69e_a3eb_11eb_ab1a_38f9d3416b75row12_col1\" class=\"data row12 col1\" >0.4237</td>\n",
       "                        <td id=\"T_a509b69e_a3eb_11eb_ab1a_38f9d3416b75row12_col2\" class=\"data row12 col2\" >0.5172</td>\n",
       "                        <td id=\"T_a509b69e_a3eb_11eb_ab1a_38f9d3416b75row12_col3\" class=\"data row12 col3\" >0.3749</td>\n",
       "                        <td id=\"T_a509b69e_a3eb_11eb_ab1a_38f9d3416b75row12_col4\" class=\"data row12 col4\" >0.4316</td>\n",
       "                        <td id=\"T_a509b69e_a3eb_11eb_ab1a_38f9d3416b75row12_col5\" class=\"data row12 col5\" >0.4237</td>\n",
       "                        <td id=\"T_a509b69e_a3eb_11eb_ab1a_38f9d3416b75row12_col6\" class=\"data row12 col6\" >0.0387</td>\n",
       "                        <td id=\"T_a509b69e_a3eb_11eb_ab1a_38f9d3416b75row12_col7\" class=\"data row12 col7\" >0.0391</td>\n",
       "                        <td id=\"T_a509b69e_a3eb_11eb_ab1a_38f9d3416b75row12_col8\" class=\"data row12 col8\" >0.0192</td>\n",
       "            </tr>\n",
       "            <tr>\n",
       "                        <th id=\"T_a509b69e_a3eb_11eb_ab1a_38f9d3416b75level0_row13\" class=\"row_heading level0 row13\" >xgboost</th>\n",
       "                        <td id=\"T_a509b69e_a3eb_11eb_ab1a_38f9d3416b75row13_col0\" class=\"data row13 col0\" >Extreme Gradient Boosting</td>\n",
       "                        <td id=\"T_a509b69e_a3eb_11eb_ab1a_38f9d3416b75row13_col1\" class=\"data row13 col1\" >0.0000</td>\n",
       "                        <td id=\"T_a509b69e_a3eb_11eb_ab1a_38f9d3416b75row13_col2\" class=\"data row13 col2\" >0.0000</td>\n",
       "                        <td id=\"T_a509b69e_a3eb_11eb_ab1a_38f9d3416b75row13_col3\" class=\"data row13 col3\" >0.0000</td>\n",
       "                        <td id=\"T_a509b69e_a3eb_11eb_ab1a_38f9d3416b75row13_col4\" class=\"data row13 col4\" >0.0000</td>\n",
       "                        <td id=\"T_a509b69e_a3eb_11eb_ab1a_38f9d3416b75row13_col5\" class=\"data row13 col5\" >0.0000</td>\n",
       "                        <td id=\"T_a509b69e_a3eb_11eb_ab1a_38f9d3416b75row13_col6\" class=\"data row13 col6\" >0.0000</td>\n",
       "                        <td id=\"T_a509b69e_a3eb_11eb_ab1a_38f9d3416b75row13_col7\" class=\"data row13 col7\" >0.0000</td>\n",
       "                        <td id=\"T_a509b69e_a3eb_11eb_ab1a_38f9d3416b75row13_col8\" class=\"data row13 col8\" >0.0090</td>\n",
       "            </tr>\n",
       "    </tbody></table>"
      ],
      "text/plain": [
       "<pandas.io.formats.style.Styler at 0x7ffc88533438>"
      ]
     },
     "metadata": {},
     "output_type": "display_data"
    }
   ],
   "source": [
    "best_model = compare_models()"
   ]
  },
  {
   "cell_type": "code",
   "execution_count": null,
   "metadata": {
    "scrolled": true
   },
   "outputs": [],
   "source": [
    "get_config('X')"
   ]
  },
  {
   "cell_type": "markdown",
   "metadata": {},
   "source": [
    "Since this project aims to predict stock prices given double top stock chart pattern for trading purposes. Both false negative and false positive are crucial. That is, in the case of false negative, if we predict a decrease in price after the pattern then decided to sale the stocks because we won't get any more profit however, it actually increases, then we just lose the opportunity to earn more. \n",
    "\n",
    "On the other hand, in the case of false positive, if we predict an increase in price after the pattern then decided to buy stocks so we can sale it during the increase however, it actually decreases, then we just lose some money. Also, the target feature has imbalanced classes. Therefore, we will emphasize the F1 score over accuracy and any other performance metrics for this project to measure the predictive power of the model built.\n",
    "\n",
    "The above output shows the list of predictive performance for several models after we fit it to our data. Notice that the model that produces the highest F1 score is the Gradient descent classifier, a sequential ensemble approach, with 0.5217 score. This imply that the model we built can predict the target feature given f1, f2, f3, f4, f5, dateF, dateE, and industry with 52.17% accuracy.\n",
    "\n",
    "Moreover, we will further interpret other performance metrics but this is just for better understanding of the predictive model performance. After all, we already interpreted F1 score, the appropriate performance metric for this project.\n",
    "\n",
    "Now, notice that the model that produces the highest accuracy is still Gradient boosting classifier with value 0.5616, followed by Ada boost classifier with value 0.5579, both are sequential ensemble approach. These implies that the models we built can predict the target feature given f1, f2, f3, f4, f5, dateF, dateE, and industry with 56.16% and 55.79% accuracy respectively. \n",
    "\n",
    "Ada Boost Classifier also produces the highest Precision with value 0.5210. This suggest that for the number of predictions that the model made, 52.19% of it are correct. Whereas, Gradient boosting classifier produces the highest AUC and Recall (Sensitivity) with values 0.6750 and 0.4883 respectively. AUC value suggest that the model have 67.50% accuracy to predict the target feature that will or will not occur. And recall value imply that, for the target feature that should occur, we predicted 48.83% of it."
   ]
  },
  {
   "cell_type": "markdown",
   "metadata": {},
   "source": [
    "## Tuned hyperparameters"
   ]
  },
  {
   "cell_type": "code",
   "execution_count": null,
   "metadata": {
    "ExecuteTime": {
     "end_time": "2021-04-21T10:44:13.767149Z",
     "start_time": "2021-04-21T10:44:13.756043Z"
    }
   },
   "outputs": [],
   "source": [
    "best_model"
   ]
  },
  {
   "cell_type": "code",
   "execution_count": null,
   "metadata": {},
   "outputs": [],
   "source": [
    "plot_model(best_model, plot='confusion_matrix')"
   ]
  },
  {
   "cell_type": "code",
   "execution_count": null,
   "metadata": {},
   "outputs": [],
   "source": [
    "plot_model(best_model)"
   ]
  },
  {
   "cell_type": "code",
   "execution_count": null,
   "metadata": {},
   "outputs": [],
   "source": [
    "plot_model(best_model, plot='class_report')"
   ]
  },
  {
   "cell_type": "code",
   "execution_count": null,
   "metadata": {},
   "outputs": [],
   "source": [
    "plot_model(best_model, plot='pr')"
   ]
  },
  {
   "cell_type": "code",
   "execution_count": null,
   "metadata": {},
   "outputs": [],
   "source": [
    "plot_model(best_model, plot='boundary')"
   ]
  },
  {
   "cell_type": "code",
   "execution_count": null,
   "metadata": {},
   "outputs": [],
   "source": [
    "plot_model(best_model, plot='learning')"
   ]
  },
  {
   "cell_type": "markdown",
   "metadata": {},
   "source": [
    "## Evaluate predictive accuracy of the model built"
   ]
  },
  {
   "cell_type": "code",
   "execution_count": null,
   "metadata": {
    "ExecuteTime": {
     "end_time": "2021-04-21T10:51:47.128704Z",
     "start_time": "2021-04-21T10:51:47.030858Z"
    }
   },
   "outputs": [],
   "source": [
    "test_scores = predict_model(best_model)"
   ]
  },
  {
   "cell_type": "code",
   "execution_count": null,
   "metadata": {
    "ExecuteTime": {
     "end_time": "2021-04-21T10:52:40.534609Z",
     "start_time": "2021-04-21T10:52:40.507617Z"
    }
   },
   "outputs": [],
   "source": [
    "test_scores"
   ]
  },
  {
   "cell_type": "code",
   "execution_count": null,
   "metadata": {
    "ExecuteTime": {
     "end_time": "2021-04-21T10:52:26.443395Z",
     "start_time": "2021-04-21T10:52:26.429729Z"
    }
   },
   "outputs": [],
   "source": [
    "test_scores.Score.mean()"
   ]
  },
  {
   "cell_type": "markdown",
   "metadata": {},
   "source": [
    "The predictive model built when use for test set, gives us a predictive accuracy of 62.40%. This suggest that we predicted the movement of stock prices given new quiries of double top stock chart pattern (test set) with 62.40% accuracy."
   ]
  },
  {
   "cell_type": "markdown",
   "metadata": {},
   "source": [
    "## Conclusion and Recommendation"
   ]
  },
  {
   "cell_type": "markdown",
   "metadata": {},
   "source": [
    "The dataset created consists of target feature with 3 levels (decrease/1, neutral/2, increase/3) and 7 descriptive features, in which 5 of them (f1, f2, f3, f4, f5) forms a double stock chart pattern and the other two are indexes of the start and end of the pattern. After we tried to fit several multiclass models on this dataset, we found out that its accuracy is less than 50%. Thus, we performed feature engineer by taking the absolute difference between f1 and f3, f3 and f5, and get the average from f1 to f5. These 3 additional descriptive features actually helped the predictive model we built to increase its accuracy from below 50% to a little bit higher than 50%. The predictive model that produces this result is the gradient boosting classifier, a sequential ensemble approach that gives an F1 score of 0.5217. This only imply that the predictive model built can predict the movement of the stock prices given double top stock chart pattern with 52.17% accuracy. Furthermore, when model performance was evaluated with the test set, it produces a 62.40% predictive accuracy."
   ]
  },
  {
   "cell_type": "markdown",
   "metadata": {},
   "source": [
    "## References"
   ]
  },
  {
   "cell_type": "markdown",
   "metadata": {},
   "source": [
    "* https://medium.com/analytics-vidhya/accuracy-vs-f1-score-6258237beca2\n",
    "* https://pycaret.org/classification/\n",
    "* https://finance.yahoo.com/"
   ]
  }
 ],
 "metadata": {
  "kernelspec": {
   "display_name": "auto",
   "language": "python",
   "name": "auto"
  },
  "language_info": {
   "codemirror_mode": {
    "name": "ipython",
    "version": 3
   },
   "file_extension": ".py",
   "mimetype": "text/x-python",
   "name": "python",
   "nbconvert_exporter": "python",
   "pygments_lexer": "ipython3",
   "version": "3.6.13"
  }
 },
 "nbformat": 4,
 "nbformat_minor": 5
}
