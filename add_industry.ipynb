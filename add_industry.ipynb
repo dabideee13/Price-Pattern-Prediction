{
 "cells": [
  {
   "cell_type": "markdown",
   "id": "japanese-functionality",
   "metadata": {},
   "source": [
    "## Prerequisites"
   ]
  },
  {
   "cell_type": "code",
   "execution_count": 2,
   "id": "included-enough",
   "metadata": {
    "ExecuteTime": {
     "end_time": "2021-04-21T04:17:26.951730Z",
     "start_time": "2021-04-21T04:17:26.749617Z"
    }
   },
   "outputs": [],
   "source": [
    "import os\n",
    "import pandas as pd"
   ]
  },
  {
   "cell_type": "markdown",
   "id": "alone-scotland",
   "metadata": {},
   "source": [
    "## Tools"
   ]
  },
  {
   "cell_type": "code",
   "execution_count": 1,
   "id": "imposed-insured",
   "metadata": {
    "ExecuteTime": {
     "end_time": "2021-04-21T04:17:25.224786Z",
     "start_time": "2021-04-21T04:17:25.222183Z"
    }
   },
   "outputs": [],
   "source": [
    "def remove_extension(filename: str) -> str:\n",
    "    return os.path.splitext(filename)[0]\n",
    "\n",
    "def add_csv(filename: str) -> str:\n",
    "    return filename + '.csv'"
   ]
  },
  {
   "cell_type": "code",
   "execution_count": 3,
   "id": "atlantic-entity",
   "metadata": {
    "ExecuteTime": {
     "end_time": "2021-04-21T04:17:30.065077Z",
     "start_time": "2021-04-21T04:17:30.061308Z"
    }
   },
   "outputs": [],
   "source": [
    "stocks_path = \"/home/ubuntu/Dabid/Datasets/Price-Pattern-data/downloaded_stocks\""
   ]
  },
  {
   "cell_type": "code",
   "execution_count": 8,
   "id": "proper-theta",
   "metadata": {
    "ExecuteTime": {
     "end_time": "2021-04-21T04:17:39.479268Z",
     "start_time": "2021-04-21T04:17:39.477269Z"
    }
   },
   "outputs": [],
   "source": [
    "dest_path = \"/home/ubuntu/Dabid/Datasets/Price-Pattern-data/stocks_with_industry\""
   ]
  },
  {
   "cell_type": "code",
   "execution_count": 4,
   "id": "spread-baking",
   "metadata": {
    "ExecuteTime": {
     "end_time": "2021-04-21T04:17:30.613023Z",
     "start_time": "2021-04-21T04:17:30.599066Z"
    }
   },
   "outputs": [],
   "source": [
    "downloaded_tickers_csv = os.listdir(stocks_path)"
   ]
  },
  {
   "cell_type": "code",
   "execution_count": 5,
   "id": "connected-condition",
   "metadata": {
    "ExecuteTime": {
     "end_time": "2021-04-21T04:17:30.948465Z",
     "start_time": "2021-04-21T04:17:30.920077Z"
    }
   },
   "outputs": [],
   "source": [
    "downloaded_tickers = list(map(remove_extension, downloaded_tickers_csv))"
   ]
  },
  {
   "cell_type": "code",
   "execution_count": 6,
   "id": "sized-uzbekistan",
   "metadata": {
    "ExecuteTime": {
     "end_time": "2021-04-21T04:17:35.901397Z",
     "start_time": "2021-04-21T04:17:35.758990Z"
    }
   },
   "outputs": [],
   "source": [
    "df_tickers_industry = pd.read_csv(\"ticker_with_industry.csv\",\n",
    "                                  encoding=\"ISO-8859-1\").dropna()"
   ]
  },
  {
   "cell_type": "code",
   "execution_count": 7,
   "id": "increasing-alpha",
   "metadata": {
    "ExecuteTime": {
     "end_time": "2021-04-21T04:17:36.804579Z",
     "start_time": "2021-04-21T04:17:36.797752Z"
    }
   },
   "outputs": [],
   "source": [
    "tickers_industry_dict = dict(zip(df_tickers_industry.Ticker,\n",
    "                                 df_tickers_industry['Category Name']))"
   ]
  },
  {
   "cell_type": "code",
   "execution_count": 10,
   "id": "ranging-charlotte",
   "metadata": {
    "ExecuteTime": {
     "end_time": "2021-04-21T04:19:30.734816Z",
     "start_time": "2021-04-21T04:17:53.079569Z"
    }
   },
   "outputs": [],
   "source": [
    "#tickersF = dict()\n",
    "for i in downloaded_tickers:\n",
    "    for j in tickers_industry_dict:\n",
    "        if i == j:\n",
    "            #tickersF[i] = tickers_industry_dict[i]\n",
    "            df_ = pd.read_csv(os.path.join(stocks_path, add_csv(i)))\n",
    "            df_['Industry'] = tickers_industry_dict[i]\n",
    "            df_.to_csv(os.path.join(dest_path, add_csv(i)))"
   ]
  },
  {
   "cell_type": "code",
   "execution_count": null,
   "id": "flush-maple",
   "metadata": {},
   "outputs": [],
   "source": []
  }
 ],
 "metadata": {
  "kernelspec": {
   "display_name": "Python 3",
   "language": "python",
   "name": "python3"
  },
  "language_info": {
   "codemirror_mode": {
    "name": "ipython",
    "version": 3
   },
   "file_extension": ".py",
   "mimetype": "text/x-python",
   "name": "python",
   "nbconvert_exporter": "python",
   "pygments_lexer": "ipython3",
   "version": "3.7.6"
  }
 },
 "nbformat": 4,
 "nbformat_minor": 5
}
